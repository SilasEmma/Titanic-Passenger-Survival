{
 "cells": [
  {
   "cell_type": "code",
   "execution_count": null,
   "metadata": {
    "cell_id": "6c91e2fc-3d4b-4c6c-84fc-cbc1f2fa4302",
    "deepnote_cell_height": 711.1875,
    "deepnote_cell_type": "code",
    "deepnote_to_be_reexecuted": false,
    "execution": {
     "iopub.execute_input": "2022-06-17T22:22:18.542202Z",
     "iopub.status.busy": "2022-06-17T22:22:18.541368Z",
     "iopub.status.idle": "2022-06-17T22:22:18.548288Z",
     "shell.execute_reply": "2022-06-17T22:22:18.547591Z",
     "shell.execute_reply.started": "2022-06-17T22:22:18.542154Z"
    },
    "execution_millis": 5687,
    "execution_start": 1655905917457,
    "owner_user_id": "fa5f43f4-b930-4170-bcd3-313f9659c8c6",
    "source_hash": "d7c93007"
   },
   "outputs": [
    {
     "ename": "ModuleNotFoundError",
     "evalue": "No module named 'mlem'",
     "output_type": "error",
     "traceback": [
      "\u001b[0;31m---------------------------------------------------------------------------\u001b[0m",
      "\u001b[0;31mModuleNotFoundError\u001b[0m                       Traceback (most recent call last)",
      "\u001b[0;32m<ipython-input-1-96ef7b3422da>\u001b[0m in \u001b[0;36m<cell line: 29>\u001b[0;34m()\u001b[0m\n\u001b[1;32m     27\u001b[0m \u001b[0;32mfrom\u001b[0m \u001b[0mmlflow\u001b[0m \u001b[0;32mimport\u001b[0m \u001b[0mlog_metric\u001b[0m\u001b[0;34m,\u001b[0m \u001b[0mlog_param\u001b[0m\u001b[0;34m,\u001b[0m \u001b[0mlog_artifact\u001b[0m\u001b[0;34m\u001b[0m\u001b[0;34m\u001b[0m\u001b[0m\n\u001b[1;32m     28\u001b[0m \u001b[0;34m\u001b[0m\u001b[0m\n\u001b[0;32m---> 29\u001b[0;31m \u001b[0;32mfrom\u001b[0m \u001b[0mmlem\u001b[0m\u001b[0;34m.\u001b[0m\u001b[0mapi\u001b[0m \u001b[0;32mimport\u001b[0m \u001b[0msave\u001b[0m\u001b[0;34m\u001b[0m\u001b[0;34m\u001b[0m\u001b[0m\n\u001b[0m",
      "\u001b[0;31mModuleNotFoundError\u001b[0m: No module named 'mlem'"
     ]
    }
   ],
   "source": [
    "\n",
    "import pickle\n",
    "import pandas as pd\n",
    "import numpy as np\n",
    "\n",
    "\n",
    "import seaborn as sns\n",
    "from matplotlib import pyplot as plt\n",
    "\n",
    "\n",
    "from sklearn.preprocessing import KBinsDiscretizer, OneHotEncoder\n",
    "from sklearn.pipeline import Pipeline, make_pipeline\n",
    "from sklearn.compose import ColumnTransformer, make_column_selector\n",
    "from sklearn.impute import SimpleImputer, KNNImputer\n",
    "from sklearn.feature_selection import SelectKBest, f_classif\n",
    "from sklearn.model_selection import train_test_split, cross_validate, GridSearchCV\n",
    "\n",
    "\n",
    "from sklearn.metrics import accuracy_score, classification_report\n",
    "from sklearn.metrics import confusion_matrix, f1_score\n",
    "\n",
    "\n",
    "from sklearn.tree import DecisionTreeClassifier\n",
    "from sklearn.ensemble import RandomForestClassifier\n",
    "\n",
    "\n",
    "import mlflow\n",
    "from mlflow import log_metric, log_param, log_artifact\n",
    "\n",
    "from mlem.api import save"
   ]
  },
  {
   "cell_type": "code",
   "execution_count": null,
   "metadata": {
    "cell_id": "00001-8cfc7abd-9913-4722-9850-41c49213849d",
    "deepnote_cell_height": 99,
    "deepnote_cell_type": "code",
    "deepnote_to_be_reexecuted": true,
    "execution": {
     "iopub.execute_input": "2022-06-17T22:22:20.651158Z",
     "iopub.status.busy": "2022-06-17T22:22:20.650302Z",
     "iopub.status.idle": "2022-06-17T22:22:20.662943Z",
     "shell.execute_reply": "2022-06-17T22:22:20.662045Z",
     "shell.execute_reply.started": "2022-06-17T22:22:20.651113Z"
    },
    "execution_millis": 8,
    "execution_start": 1655846537777,
    "source_hash": "6ab19894"
   },
   "outputs": [],
   "source": [
    "# loading datasets\n",
    "df = pd.read_csv('/work/titanic/train.csv')"
   ]
  },
  {
   "cell_type": "markdown",
   "metadata": {
    "cell_id": "00002-2de5dec6-93f5-48a0-8a00-db699d7aefe7",
    "deepnote_cell_height": 52.390625,
    "deepnote_cell_type": "markdown"
   },
   "source": [
    "**Data Understanding**"
   ]
  },
  {
   "cell_type": "code",
   "execution_count": null,
   "metadata": {
    "cell_id": "00003-f61fd351-27b8-4e1f-b438-618c7253df58",
    "deepnote_cell_height": 413,
    "deepnote_cell_type": "code",
    "deepnote_to_be_reexecuted": true,
    "execution": {
     "iopub.execute_input": "2022-06-17T22:22:23.038224Z",
     "iopub.status.busy": "2022-06-17T22:22:23.037623Z",
     "iopub.status.idle": "2022-06-17T22:22:23.052714Z",
     "shell.execute_reply": "2022-06-17T22:22:23.052012Z",
     "shell.execute_reply.started": "2022-06-17T22:22:23.038185Z"
    },
    "execution_millis": 92,
    "execution_start": 1655846537795,
    "source_hash": "6f7e9724"
   },
   "outputs": [
    {
     "data": {
      "application/vnd.deepnote.dataframe.v3+json": {
       "column_count": 12,
       "columns": [
        {
         "dtype": "int64",
         "name": "PassengerId",
         "stats": {
          "histogram": [
           {
            "bin_end": 1.4,
            "bin_start": 1,
            "count": 1
           },
           {
            "bin_end": 1.8,
            "bin_start": 1.4,
            "count": 0
           },
           {
            "bin_end": 2.2,
            "bin_start": 1.8,
            "count": 1
           },
           {
            "bin_end": 2.6,
            "bin_start": 2.2,
            "count": 0
           },
           {
            "bin_end": 3,
            "bin_start": 2.6,
            "count": 0
           },
           {
            "bin_end": 3.4000000000000004,
            "bin_start": 3,
            "count": 1
           },
           {
            "bin_end": 3.8000000000000003,
            "bin_start": 3.4000000000000004,
            "count": 0
           },
           {
            "bin_end": 4.2,
            "bin_start": 3.8000000000000003,
            "count": 1
           },
           {
            "bin_end": 4.6,
            "bin_start": 4.2,
            "count": 0
           },
           {
            "bin_end": 5,
            "bin_start": 4.6,
            "count": 1
           }
          ],
          "max": "5",
          "min": "1",
          "nan_count": 0,
          "unique_count": 5
         }
        },
        {
         "dtype": "int64",
         "name": "Survived",
         "stats": {
          "histogram": [
           {
            "bin_end": 0.1,
            "bin_start": 0,
            "count": 2
           },
           {
            "bin_end": 0.2,
            "bin_start": 0.1,
            "count": 0
           },
           {
            "bin_end": 0.30000000000000004,
            "bin_start": 0.2,
            "count": 0
           },
           {
            "bin_end": 0.4,
            "bin_start": 0.30000000000000004,
            "count": 0
           },
           {
            "bin_end": 0.5,
            "bin_start": 0.4,
            "count": 0
           },
           {
            "bin_end": 0.6000000000000001,
            "bin_start": 0.5,
            "count": 0
           },
           {
            "bin_end": 0.7000000000000001,
            "bin_start": 0.6000000000000001,
            "count": 0
           },
           {
            "bin_end": 0.8,
            "bin_start": 0.7000000000000001,
            "count": 0
           },
           {
            "bin_end": 0.9,
            "bin_start": 0.8,
            "count": 0
           },
           {
            "bin_end": 1,
            "bin_start": 0.9,
            "count": 3
           }
          ],
          "max": "1",
          "min": "0",
          "nan_count": 0,
          "unique_count": 2
         }
        },
        {
         "dtype": "int64",
         "name": "Pclass",
         "stats": {
          "histogram": [
           {
            "bin_end": 1.2,
            "bin_start": 1,
            "count": 2
           },
           {
            "bin_end": 1.4,
            "bin_start": 1.2,
            "count": 0
           },
           {
            "bin_end": 1.6,
            "bin_start": 1.4,
            "count": 0
           },
           {
            "bin_end": 1.8,
            "bin_start": 1.6,
            "count": 0
           },
           {
            "bin_end": 2,
            "bin_start": 1.8,
            "count": 0
           },
           {
            "bin_end": 2.2,
            "bin_start": 2,
            "count": 0
           },
           {
            "bin_end": 2.4000000000000004,
            "bin_start": 2.2,
            "count": 0
           },
           {
            "bin_end": 2.6,
            "bin_start": 2.4000000000000004,
            "count": 0
           },
           {
            "bin_end": 2.8,
            "bin_start": 2.6,
            "count": 0
           },
           {
            "bin_end": 3,
            "bin_start": 2.8,
            "count": 3
           }
          ],
          "max": "3",
          "min": "1",
          "nan_count": 0,
          "unique_count": 2
         }
        },
        {
         "dtype": "object",
         "name": "Name",
         "stats": {
          "categories": [
           {
            "count": 1,
            "name": "Braund, Mr. Owen Harris"
           },
           {
            "count": 1,
            "name": "Cumings, Mrs. John Bradley (Florence Briggs Thayer)"
           },
           {
            "count": 3,
            "name": "3 others"
           }
          ],
          "nan_count": 0,
          "unique_count": 5
         }
        },
        {
         "dtype": "object",
         "name": "Sex",
         "stats": {
          "categories": [
           {
            "count": 3,
            "name": "female"
           },
           {
            "count": 2,
            "name": "male"
           }
          ],
          "nan_count": 0,
          "unique_count": 2
         }
        },
        {
         "dtype": "float64",
         "name": "Age",
         "stats": {
          "histogram": [
           {
            "bin_end": 23.6,
            "bin_start": 22,
            "count": 1
           },
           {
            "bin_end": 25.2,
            "bin_start": 23.6,
            "count": 0
           },
           {
            "bin_end": 26.8,
            "bin_start": 25.2,
            "count": 1
           },
           {
            "bin_end": 28.4,
            "bin_start": 26.8,
            "count": 0
           },
           {
            "bin_end": 30,
            "bin_start": 28.4,
            "count": 0
           },
           {
            "bin_end": 31.6,
            "bin_start": 30,
            "count": 0
           },
           {
            "bin_end": 33.2,
            "bin_start": 31.6,
            "count": 0
           },
           {
            "bin_end": 34.8,
            "bin_start": 33.2,
            "count": 0
           },
           {
            "bin_end": 36.4,
            "bin_start": 34.8,
            "count": 2
           },
           {
            "bin_end": 38,
            "bin_start": 36.4,
            "count": 1
           }
          ],
          "max": "38.0",
          "min": "22.0",
          "nan_count": 0,
          "unique_count": 4
         }
        },
        {
         "dtype": "int64",
         "name": "SibSp",
         "stats": {
          "histogram": [
           {
            "bin_end": 0.1,
            "bin_start": 0,
            "count": 2
           },
           {
            "bin_end": 0.2,
            "bin_start": 0.1,
            "count": 0
           },
           {
            "bin_end": 0.30000000000000004,
            "bin_start": 0.2,
            "count": 0
           },
           {
            "bin_end": 0.4,
            "bin_start": 0.30000000000000004,
            "count": 0
           },
           {
            "bin_end": 0.5,
            "bin_start": 0.4,
            "count": 0
           },
           {
            "bin_end": 0.6000000000000001,
            "bin_start": 0.5,
            "count": 0
           },
           {
            "bin_end": 0.7000000000000001,
            "bin_start": 0.6000000000000001,
            "count": 0
           },
           {
            "bin_end": 0.8,
            "bin_start": 0.7000000000000001,
            "count": 0
           },
           {
            "bin_end": 0.9,
            "bin_start": 0.8,
            "count": 0
           },
           {
            "bin_end": 1,
            "bin_start": 0.9,
            "count": 3
           }
          ],
          "max": "1",
          "min": "0",
          "nan_count": 0,
          "unique_count": 2
         }
        },
        {
         "dtype": "int64",
         "name": "Parch",
         "stats": {
          "histogram": [
           {
            "bin_end": -0.4,
            "bin_start": -0.5,
            "count": 0
           },
           {
            "bin_end": -0.3,
            "bin_start": -0.4,
            "count": 0
           },
           {
            "bin_end": -0.19999999999999996,
            "bin_start": -0.3,
            "count": 0
           },
           {
            "bin_end": -0.09999999999999998,
            "bin_start": -0.19999999999999996,
            "count": 0
           },
           {
            "bin_end": 0,
            "bin_start": -0.09999999999999998,
            "count": 0
           },
           {
            "bin_end": 0.10000000000000009,
            "bin_start": 0,
            "count": 5
           },
           {
            "bin_end": 0.20000000000000007,
            "bin_start": 0.10000000000000009,
            "count": 0
           },
           {
            "bin_end": 0.30000000000000004,
            "bin_start": 0.20000000000000007,
            "count": 0
           },
           {
            "bin_end": 0.4,
            "bin_start": 0.30000000000000004,
            "count": 0
           },
           {
            "bin_end": 0.5,
            "bin_start": 0.4,
            "count": 0
           }
          ],
          "max": "0",
          "min": "0",
          "nan_count": 0,
          "unique_count": 1
         }
        },
        {
         "dtype": "object",
         "name": "Ticket",
         "stats": {
          "categories": [
           {
            "count": 1,
            "name": "A/5 21171"
           },
           {
            "count": 1,
            "name": "PC 17599"
           },
           {
            "count": 3,
            "name": "3 others"
           }
          ],
          "nan_count": 0,
          "unique_count": 5
         }
        },
        {
         "dtype": "float64",
         "name": "Fare",
         "stats": {
          "histogram": [
           {
            "bin_end": 13.65333,
            "bin_start": 7.25,
            "count": 3
           },
           {
            "bin_end": 20.05666,
            "bin_start": 13.65333,
            "count": 0
           },
           {
            "bin_end": 26.459989999999998,
            "bin_start": 20.05666,
            "count": 0
           },
           {
            "bin_end": 32.86332,
            "bin_start": 26.459989999999998,
            "count": 0
           },
           {
            "bin_end": 39.26665,
            "bin_start": 32.86332,
            "count": 0
           },
           {
            "bin_end": 45.669979999999995,
            "bin_start": 39.26665,
            "count": 0
           },
           {
            "bin_end": 52.07331,
            "bin_start": 45.669979999999995,
            "count": 0
           },
           {
            "bin_end": 58.476639999999996,
            "bin_start": 52.07331,
            "count": 1
           },
           {
            "bin_end": 64.87996999999999,
            "bin_start": 58.476639999999996,
            "count": 0
           },
           {
            "bin_end": 71.2833,
            "bin_start": 64.87996999999999,
            "count": 1
           }
          ],
          "max": "71.2833",
          "min": "7.25",
          "nan_count": 0,
          "unique_count": 5
         }
        },
        {
         "dtype": "object",
         "name": "Cabin",
         "stats": {
          "categories": [
           {
            "count": 1,
            "name": "C85"
           },
           {
            "count": 1,
            "name": "C123"
           },
           {
            "count": 3,
            "name": "Missing"
           }
          ],
          "nan_count": 3,
          "unique_count": 2
         }
        },
        {
         "dtype": "object",
         "name": "Embarked",
         "stats": {
          "categories": [
           {
            "count": 4,
            "name": "S"
           },
           {
            "count": 1,
            "name": "C"
           }
          ],
          "nan_count": 0,
          "unique_count": 2
         }
        },
        {
         "dtype": "int64",
         "name": "_deepnote_index_column"
        }
       ],
       "row_count": 5,
       "rows": [
        {
         "Age": 22,
         "Cabin": "nan",
         "Embarked": "S",
         "Fare": 7.25,
         "Name": "Braund, Mr. Owen Harris",
         "Parch": 0,
         "PassengerId": 1,
         "Pclass": 3,
         "Sex": "male",
         "SibSp": 1,
         "Survived": 0,
         "Ticket": "A/5 21171",
         "_deepnote_index_column": 0
        },
        {
         "Age": 38,
         "Cabin": "C85",
         "Embarked": "C",
         "Fare": 71.2833,
         "Name": "Cumings, Mrs. John Bradley (Florence Briggs Thayer)",
         "Parch": 0,
         "PassengerId": 2,
         "Pclass": 1,
         "Sex": "female",
         "SibSp": 1,
         "Survived": 1,
         "Ticket": "PC 17599",
         "_deepnote_index_column": 1
        },
        {
         "Age": 26,
         "Cabin": "nan",
         "Embarked": "S",
         "Fare": 7.925,
         "Name": "Heikkinen, Miss. Laina",
         "Parch": 0,
         "PassengerId": 3,
         "Pclass": 3,
         "Sex": "female",
         "SibSp": 0,
         "Survived": 1,
         "Ticket": "STON/O2. 3101282",
         "_deepnote_index_column": 2
        },
        {
         "Age": 35,
         "Cabin": "C123",
         "Embarked": "S",
         "Fare": 53.1,
         "Name": "Futrelle, Mrs. Jacques Heath (Lily May Peel)",
         "Parch": 0,
         "PassengerId": 4,
         "Pclass": 1,
         "Sex": "female",
         "SibSp": 1,
         "Survived": 1,
         "Ticket": "113803",
         "_deepnote_index_column": 3
        },
        {
         "Age": 35,
         "Cabin": "nan",
         "Embarked": "S",
         "Fare": 8.05,
         "Name": "Allen, Mr. William Henry",
         "Parch": 0,
         "PassengerId": 5,
         "Pclass": 3,
         "Sex": "male",
         "SibSp": 0,
         "Survived": 0,
         "Ticket": "373450",
         "_deepnote_index_column": 4
        }
       ]
      },
      "text/html": [
       "<div>\n",
       "<style scoped>\n",
       "    .dataframe tbody tr th:only-of-type {\n",
       "        vertical-align: middle;\n",
       "    }\n",
       "\n",
       "    .dataframe tbody tr th {\n",
       "        vertical-align: top;\n",
       "    }\n",
       "\n",
       "    .dataframe thead th {\n",
       "        text-align: right;\n",
       "    }\n",
       "</style>\n",
       "<table border=\"1\" class=\"dataframe\">\n",
       "  <thead>\n",
       "    <tr style=\"text-align: right;\">\n",
       "      <th></th>\n",
       "      <th>PassengerId</th>\n",
       "      <th>Survived</th>\n",
       "      <th>Pclass</th>\n",
       "      <th>Name</th>\n",
       "      <th>Sex</th>\n",
       "      <th>Age</th>\n",
       "      <th>SibSp</th>\n",
       "      <th>Parch</th>\n",
       "      <th>Ticket</th>\n",
       "      <th>Fare</th>\n",
       "      <th>Cabin</th>\n",
       "      <th>Embarked</th>\n",
       "    </tr>\n",
       "  </thead>\n",
       "  <tbody>\n",
       "    <tr>\n",
       "      <th>0</th>\n",
       "      <td>1</td>\n",
       "      <td>0</td>\n",
       "      <td>3</td>\n",
       "      <td>Braund, Mr. Owen Harris</td>\n",
       "      <td>male</td>\n",
       "      <td>22.0</td>\n",
       "      <td>1</td>\n",
       "      <td>0</td>\n",
       "      <td>A/5 21171</td>\n",
       "      <td>7.2500</td>\n",
       "      <td>NaN</td>\n",
       "      <td>S</td>\n",
       "    </tr>\n",
       "    <tr>\n",
       "      <th>1</th>\n",
       "      <td>2</td>\n",
       "      <td>1</td>\n",
       "      <td>1</td>\n",
       "      <td>Cumings, Mrs. John Bradley (Florence Briggs Th...</td>\n",
       "      <td>female</td>\n",
       "      <td>38.0</td>\n",
       "      <td>1</td>\n",
       "      <td>0</td>\n",
       "      <td>PC 17599</td>\n",
       "      <td>71.2833</td>\n",
       "      <td>C85</td>\n",
       "      <td>C</td>\n",
       "    </tr>\n",
       "    <tr>\n",
       "      <th>2</th>\n",
       "      <td>3</td>\n",
       "      <td>1</td>\n",
       "      <td>3</td>\n",
       "      <td>Heikkinen, Miss. Laina</td>\n",
       "      <td>female</td>\n",
       "      <td>26.0</td>\n",
       "      <td>0</td>\n",
       "      <td>0</td>\n",
       "      <td>STON/O2. 3101282</td>\n",
       "      <td>7.9250</td>\n",
       "      <td>NaN</td>\n",
       "      <td>S</td>\n",
       "    </tr>\n",
       "    <tr>\n",
       "      <th>3</th>\n",
       "      <td>4</td>\n",
       "      <td>1</td>\n",
       "      <td>1</td>\n",
       "      <td>Futrelle, Mrs. Jacques Heath (Lily May Peel)</td>\n",
       "      <td>female</td>\n",
       "      <td>35.0</td>\n",
       "      <td>1</td>\n",
       "      <td>0</td>\n",
       "      <td>113803</td>\n",
       "      <td>53.1000</td>\n",
       "      <td>C123</td>\n",
       "      <td>S</td>\n",
       "    </tr>\n",
       "    <tr>\n",
       "      <th>4</th>\n",
       "      <td>5</td>\n",
       "      <td>0</td>\n",
       "      <td>3</td>\n",
       "      <td>Allen, Mr. William Henry</td>\n",
       "      <td>male</td>\n",
       "      <td>35.0</td>\n",
       "      <td>0</td>\n",
       "      <td>0</td>\n",
       "      <td>373450</td>\n",
       "      <td>8.0500</td>\n",
       "      <td>NaN</td>\n",
       "      <td>S</td>\n",
       "    </tr>\n",
       "  </tbody>\n",
       "</table>\n",
       "</div>"
      ],
      "text/plain": [
       "   PassengerId  Survived  Pclass  \\\n",
       "0            1         0       3   \n",
       "1            2         1       1   \n",
       "2            3         1       3   \n",
       "3            4         1       1   \n",
       "4            5         0       3   \n",
       "\n",
       "                                                Name     Sex   Age  SibSp  \\\n",
       "0                            Braund, Mr. Owen Harris    male  22.0      1   \n",
       "1  Cumings, Mrs. John Bradley (Florence Briggs Th...  female  38.0      1   \n",
       "2                             Heikkinen, Miss. Laina  female  26.0      0   \n",
       "3       Futrelle, Mrs. Jacques Heath (Lily May Peel)  female  35.0      1   \n",
       "4                           Allen, Mr. William Henry    male  35.0      0   \n",
       "\n",
       "   Parch            Ticket     Fare Cabin Embarked  \n",
       "0      0         A/5 21171   7.2500   NaN        S  \n",
       "1      0          PC 17599  71.2833   C85        C  \n",
       "2      0  STON/O2. 3101282   7.9250   NaN        S  \n",
       "3      0            113803  53.1000  C123        S  \n",
       "4      0            373450   8.0500   NaN        S  "
      ]
     },
     "execution_count": 3,
     "metadata": {},
     "output_type": "execute_result"
    }
   ],
   "source": [
    "# Return the first `n` rows\n",
    "df.head()"
   ]
  },
  {
   "cell_type": "code",
   "execution_count": null,
   "metadata": {
    "cell_id": "00004-f05f5e61-c5b9-4bb0-b85e-2847745b84ef",
    "deepnote_cell_height": 484.203125,
    "deepnote_cell_type": "code",
    "deepnote_to_be_reexecuted": true,
    "execution": {
     "iopub.execute_input": "2022-06-17T22:22:25.229272Z",
     "iopub.status.busy": "2022-06-17T22:22:25.228955Z",
     "iopub.status.idle": "2022-06-17T22:22:25.242765Z",
     "shell.execute_reply": "2022-06-17T22:22:25.242043Z",
     "shell.execute_reply.started": "2022-06-17T22:22:25.229239Z"
    },
    "execution_millis": 32,
    "execution_start": 1655846537888,
    "source_hash": "a048f036"
   },
   "outputs": [
    {
     "name": "stdout",
     "output_type": "stream",
     "text": [
      "<class 'pandas.core.frame.DataFrame'>\n",
      "RangeIndex: 891 entries, 0 to 890\n",
      "Data columns (total 12 columns):\n",
      " #   Column       Non-Null Count  Dtype  \n",
      "---  ------       --------------  -----  \n",
      " 0   PassengerId  891 non-null    int64  \n",
      " 1   Survived     891 non-null    int64  \n",
      " 2   Pclass       891 non-null    int64  \n",
      " 3   Name         891 non-null    object \n",
      " 4   Sex          891 non-null    object \n",
      " 5   Age          714 non-null    float64\n",
      " 6   SibSp        891 non-null    int64  \n",
      " 7   Parch        891 non-null    int64  \n",
      " 8   Ticket       891 non-null    object \n",
      " 9   Fare         891 non-null    float64\n",
      " 10  Cabin        204 non-null    object \n",
      " 11  Embarked     889 non-null    object \n",
      "dtypes: float64(2), int64(5), object(5)\n",
      "memory usage: 83.7+ KB\n"
     ]
    }
   ],
   "source": [
    "# Print a concise summary of a DataFrame.\n",
    "df.info()"
   ]
  },
  {
   "cell_type": "code",
   "execution_count": null,
   "metadata": {
    "cell_id": "00005-f07943f2-cc92-4669-bcb2-d0a751e0ac3e",
    "deepnote_cell_height": 536,
    "deepnote_cell_type": "code",
    "deepnote_to_be_reexecuted": true,
    "execution": {
     "iopub.execute_input": "2022-06-17T22:22:27.543445Z",
     "iopub.status.busy": "2022-06-17T22:22:27.542602Z",
     "iopub.status.idle": "2022-06-17T22:22:27.57168Z",
     "shell.execute_reply": "2022-06-17T22:22:27.57077Z",
     "shell.execute_reply.started": "2022-06-17T22:22:27.5434Z"
    },
    "execution_millis": 155,
    "execution_start": 1655846537921,
    "source_hash": "3e2f3ebc"
   },
   "outputs": [
    {
     "data": {
      "application/vnd.deepnote.dataframe.v3+json": {
       "column_count": 7,
       "columns": [
        {
         "dtype": "float64",
         "name": "PassengerId",
         "stats": {
          "histogram": [
           {
            "bin_end": 90,
            "bin_start": 1,
            "count": 1
           },
           {
            "bin_end": 179,
            "bin_start": 90,
            "count": 0
           },
           {
            "bin_end": 268,
            "bin_start": 179,
            "count": 2
           },
           {
            "bin_end": 357,
            "bin_start": 268,
            "count": 0
           },
           {
            "bin_end": 446,
            "bin_start": 357,
            "count": 0
           },
           {
            "bin_end": 535,
            "bin_start": 446,
            "count": 2
           },
           {
            "bin_end": 624,
            "bin_start": 535,
            "count": 0
           },
           {
            "bin_end": 713,
            "bin_start": 624,
            "count": 1
           },
           {
            "bin_end": 802,
            "bin_start": 713,
            "count": 0
           },
           {
            "bin_end": 891,
            "bin_start": 802,
            "count": 2
           }
          ],
          "max": "891.0",
          "min": "1.0",
          "nan_count": 0,
          "unique_count": 6
         }
        },
        {
         "dtype": "float64",
         "name": "Survived",
         "stats": {
          "histogram": [
           {
            "bin_end": 89.1,
            "bin_start": 0,
            "count": 7
           },
           {
            "bin_end": 178.2,
            "bin_start": 89.1,
            "count": 0
           },
           {
            "bin_end": 267.29999999999995,
            "bin_start": 178.2,
            "count": 0
           },
           {
            "bin_end": 356.4,
            "bin_start": 267.29999999999995,
            "count": 0
           },
           {
            "bin_end": 445.5,
            "bin_start": 356.4,
            "count": 0
           },
           {
            "bin_end": 534.5999999999999,
            "bin_start": 445.5,
            "count": 0
           },
           {
            "bin_end": 623.6999999999999,
            "bin_start": 534.5999999999999,
            "count": 0
           },
           {
            "bin_end": 712.8,
            "bin_start": 623.6999999999999,
            "count": 0
           },
           {
            "bin_end": 801.9,
            "bin_start": 712.8,
            "count": 0
           },
           {
            "bin_end": 891,
            "bin_start": 801.9,
            "count": 1
           }
          ],
          "max": "891.0",
          "min": "0.0",
          "nan_count": 0,
          "unique_count": 5
         }
        },
        {
         "dtype": "float64",
         "name": "Pclass",
         "stats": {
          "histogram": [
           {
            "bin_end": 89.85246411687935,
            "bin_start": 0.836071240977049,
            "count": 7
           },
           {
            "bin_end": 178.86885699278164,
            "bin_start": 89.85246411687935,
            "count": 0
           },
           {
            "bin_end": 267.88524986868396,
            "bin_start": 178.86885699278164,
            "count": 0
           },
           {
            "bin_end": 356.90164274458624,
            "bin_start": 267.88524986868396,
            "count": 0
           },
           {
            "bin_end": 445.9180356204885,
            "bin_start": 356.90164274458624,
            "count": 0
           },
           {
            "bin_end": 534.9344284963909,
            "bin_start": 445.9180356204885,
            "count": 0
           },
           {
            "bin_end": 623.9508213722931,
            "bin_start": 534.9344284963909,
            "count": 0
           },
           {
            "bin_end": 712.9672142481954,
            "bin_start": 623.9508213722931,
            "count": 0
           },
           {
            "bin_end": 801.9836071240977,
            "bin_start": 712.9672142481954,
            "count": 0
           },
           {
            "bin_end": 891,
            "bin_start": 801.9836071240977,
            "count": 1
           }
          ],
          "max": "891.0",
          "min": "0.836071240977049",
          "nan_count": 0,
          "unique_count": 6
         }
        },
        {
         "dtype": "float64",
         "name": "Age",
         "stats": {
          "histogram": [
           {
            "bin_end": 71.778,
            "bin_start": 0.42,
            "count": 6
           },
           {
            "bin_end": 143.136,
            "bin_start": 71.778,
            "count": 1
           },
           {
            "bin_end": 214.494,
            "bin_start": 143.136,
            "count": 0
           },
           {
            "bin_end": 285.85200000000003,
            "bin_start": 214.494,
            "count": 0
           },
           {
            "bin_end": 357.21000000000004,
            "bin_start": 285.85200000000003,
            "count": 0
           },
           {
            "bin_end": 428.56800000000004,
            "bin_start": 357.21000000000004,
            "count": 0
           },
           {
            "bin_end": 499.92600000000004,
            "bin_start": 428.56800000000004,
            "count": 0
           },
           {
            "bin_end": 571.284,
            "bin_start": 499.92600000000004,
            "count": 0
           },
           {
            "bin_end": 642.6419999999999,
            "bin_start": 571.284,
            "count": 0
           },
           {
            "bin_end": 714,
            "bin_start": 642.6419999999999,
            "count": 1
           }
          ],
          "max": "714.0",
          "min": "0.42",
          "nan_count": 0,
          "unique_count": 8
         }
        },
        {
         "dtype": "float64",
         "name": "SibSp",
         "stats": {
          "histogram": [
           {
            "bin_end": 89.1,
            "bin_start": 0,
            "count": 7
           },
           {
            "bin_end": 178.2,
            "bin_start": 89.1,
            "count": 0
           },
           {
            "bin_end": 267.29999999999995,
            "bin_start": 178.2,
            "count": 0
           },
           {
            "bin_end": 356.4,
            "bin_start": 267.29999999999995,
            "count": 0
           },
           {
            "bin_end": 445.5,
            "bin_start": 356.4,
            "count": 0
           },
           {
            "bin_end": 534.5999999999999,
            "bin_start": 445.5,
            "count": 0
           },
           {
            "bin_end": 623.6999999999999,
            "bin_start": 534.5999999999999,
            "count": 0
           },
           {
            "bin_end": 712.8,
            "bin_start": 623.6999999999999,
            "count": 0
           },
           {
            "bin_end": 801.9,
            "bin_start": 712.8,
            "count": 0
           },
           {
            "bin_end": 891,
            "bin_start": 801.9,
            "count": 1
           }
          ],
          "max": "891.0",
          "min": "0.0",
          "nan_count": 0,
          "unique_count": 6
         }
        },
        {
         "dtype": "float64",
         "name": "Parch",
         "stats": {
          "histogram": [
           {
            "bin_end": 89.1,
            "bin_start": 0,
            "count": 7
           },
           {
            "bin_end": 178.2,
            "bin_start": 89.1,
            "count": 0
           },
           {
            "bin_end": 267.29999999999995,
            "bin_start": 178.2,
            "count": 0
           },
           {
            "bin_end": 356.4,
            "bin_start": 267.29999999999995,
            "count": 0
           },
           {
            "bin_end": 445.5,
            "bin_start": 356.4,
            "count": 0
           },
           {
            "bin_end": 534.5999999999999,
            "bin_start": 445.5,
            "count": 0
           },
           {
            "bin_end": 623.6999999999999,
            "bin_start": 534.5999999999999,
            "count": 0
           },
           {
            "bin_end": 712.8,
            "bin_start": 623.6999999999999,
            "count": 0
           },
           {
            "bin_end": 801.9,
            "bin_start": 712.8,
            "count": 0
           },
           {
            "bin_end": 891,
            "bin_start": 801.9,
            "count": 1
           }
          ],
          "max": "891.0",
          "min": "0.0",
          "nan_count": 0,
          "unique_count": 5
         }
        },
        {
         "dtype": "float64",
         "name": "Fare",
         "stats": {
          "histogram": [
           {
            "bin_end": 89.1,
            "bin_start": 0,
            "count": 6
           },
           {
            "bin_end": 178.2,
            "bin_start": 89.1,
            "count": 0
           },
           {
            "bin_end": 267.29999999999995,
            "bin_start": 178.2,
            "count": 0
           },
           {
            "bin_end": 356.4,
            "bin_start": 267.29999999999995,
            "count": 0
           },
           {
            "bin_end": 445.5,
            "bin_start": 356.4,
            "count": 0
           },
           {
            "bin_end": 534.5999999999999,
            "bin_start": 445.5,
            "count": 1
           },
           {
            "bin_end": 623.6999999999999,
            "bin_start": 534.5999999999999,
            "count": 0
           },
           {
            "bin_end": 712.8,
            "bin_start": 623.6999999999999,
            "count": 0
           },
           {
            "bin_end": 801.9,
            "bin_start": 712.8,
            "count": 0
           },
           {
            "bin_end": 891,
            "bin_start": 801.9,
            "count": 1
           }
          ],
          "max": "891.0",
          "min": "0.0",
          "nan_count": 0,
          "unique_count": 8
         }
        },
        {
         "dtype": "object",
         "name": "_deepnote_index_column"
        }
       ],
       "row_count": 8,
       "rows": [
        {
         "Age": 714,
         "Fare": 891,
         "Parch": 891,
         "PassengerId": 891,
         "Pclass": 891,
         "SibSp": 891,
         "Survived": 891,
         "_deepnote_index_column": "count"
        },
        {
         "Age": 29.69911764705882,
         "Fare": 32.204207968574636,
         "Parch": 0.38159371492704824,
         "PassengerId": 446,
         "Pclass": 2.308641975308642,
         "SibSp": 0.5230078563411896,
         "Survived": 0.3838383838383838,
         "_deepnote_index_column": "mean"
        },
        {
         "Age": 14.526497332334042,
         "Fare": 49.6934285971809,
         "Parch": 0.8060572211299483,
         "PassengerId": 257.3538420152301,
         "Pclass": 0.836071240977049,
         "SibSp": 1.1027434322934317,
         "Survived": 0.4865924542648575,
         "_deepnote_index_column": "std"
        },
        {
         "Age": 0.42,
         "Fare": 0,
         "Parch": 0,
         "PassengerId": 1,
         "Pclass": 1,
         "SibSp": 0,
         "Survived": 0,
         "_deepnote_index_column": "min"
        },
        {
         "Age": 20.125,
         "Fare": 7.9104,
         "Parch": 0,
         "PassengerId": 223.5,
         "Pclass": 2,
         "SibSp": 0,
         "Survived": 0,
         "_deepnote_index_column": "25%"
        },
        {
         "Age": 28,
         "Fare": 14.4542,
         "Parch": 0,
         "PassengerId": 446,
         "Pclass": 3,
         "SibSp": 0,
         "Survived": 0,
         "_deepnote_index_column": "50%"
        },
        {
         "Age": 38,
         "Fare": 31,
         "Parch": 0,
         "PassengerId": 668.5,
         "Pclass": 3,
         "SibSp": 1,
         "Survived": 1,
         "_deepnote_index_column": "75%"
        },
        {
         "Age": 80,
         "Fare": 512.3292,
         "Parch": 6,
         "PassengerId": 891,
         "Pclass": 3,
         "SibSp": 8,
         "Survived": 1,
         "_deepnote_index_column": "max"
        }
       ]
      },
      "text/html": [
       "<div>\n",
       "<style scoped>\n",
       "    .dataframe tbody tr th:only-of-type {\n",
       "        vertical-align: middle;\n",
       "    }\n",
       "\n",
       "    .dataframe tbody tr th {\n",
       "        vertical-align: top;\n",
       "    }\n",
       "\n",
       "    .dataframe thead th {\n",
       "        text-align: right;\n",
       "    }\n",
       "</style>\n",
       "<table border=\"1\" class=\"dataframe\">\n",
       "  <thead>\n",
       "    <tr style=\"text-align: right;\">\n",
       "      <th></th>\n",
       "      <th>PassengerId</th>\n",
       "      <th>Survived</th>\n",
       "      <th>Pclass</th>\n",
       "      <th>Age</th>\n",
       "      <th>SibSp</th>\n",
       "      <th>Parch</th>\n",
       "      <th>Fare</th>\n",
       "    </tr>\n",
       "  </thead>\n",
       "  <tbody>\n",
       "    <tr>\n",
       "      <th>count</th>\n",
       "      <td>891.000000</td>\n",
       "      <td>891.000000</td>\n",
       "      <td>891.000000</td>\n",
       "      <td>714.000000</td>\n",
       "      <td>891.000000</td>\n",
       "      <td>891.000000</td>\n",
       "      <td>891.000000</td>\n",
       "    </tr>\n",
       "    <tr>\n",
       "      <th>mean</th>\n",
       "      <td>446.000000</td>\n",
       "      <td>0.383838</td>\n",
       "      <td>2.308642</td>\n",
       "      <td>29.699118</td>\n",
       "      <td>0.523008</td>\n",
       "      <td>0.381594</td>\n",
       "      <td>32.204208</td>\n",
       "    </tr>\n",
       "    <tr>\n",
       "      <th>std</th>\n",
       "      <td>257.353842</td>\n",
       "      <td>0.486592</td>\n",
       "      <td>0.836071</td>\n",
       "      <td>14.526497</td>\n",
       "      <td>1.102743</td>\n",
       "      <td>0.806057</td>\n",
       "      <td>49.693429</td>\n",
       "    </tr>\n",
       "    <tr>\n",
       "      <th>min</th>\n",
       "      <td>1.000000</td>\n",
       "      <td>0.000000</td>\n",
       "      <td>1.000000</td>\n",
       "      <td>0.420000</td>\n",
       "      <td>0.000000</td>\n",
       "      <td>0.000000</td>\n",
       "      <td>0.000000</td>\n",
       "    </tr>\n",
       "    <tr>\n",
       "      <th>25%</th>\n",
       "      <td>223.500000</td>\n",
       "      <td>0.000000</td>\n",
       "      <td>2.000000</td>\n",
       "      <td>20.125000</td>\n",
       "      <td>0.000000</td>\n",
       "      <td>0.000000</td>\n",
       "      <td>7.910400</td>\n",
       "    </tr>\n",
       "    <tr>\n",
       "      <th>50%</th>\n",
       "      <td>446.000000</td>\n",
       "      <td>0.000000</td>\n",
       "      <td>3.000000</td>\n",
       "      <td>28.000000</td>\n",
       "      <td>0.000000</td>\n",
       "      <td>0.000000</td>\n",
       "      <td>14.454200</td>\n",
       "    </tr>\n",
       "    <tr>\n",
       "      <th>75%</th>\n",
       "      <td>668.500000</td>\n",
       "      <td>1.000000</td>\n",
       "      <td>3.000000</td>\n",
       "      <td>38.000000</td>\n",
       "      <td>1.000000</td>\n",
       "      <td>0.000000</td>\n",
       "      <td>31.000000</td>\n",
       "    </tr>\n",
       "    <tr>\n",
       "      <th>max</th>\n",
       "      <td>891.000000</td>\n",
       "      <td>1.000000</td>\n",
       "      <td>3.000000</td>\n",
       "      <td>80.000000</td>\n",
       "      <td>8.000000</td>\n",
       "      <td>6.000000</td>\n",
       "      <td>512.329200</td>\n",
       "    </tr>\n",
       "  </tbody>\n",
       "</table>\n",
       "</div>"
      ],
      "text/plain": [
       "       PassengerId    Survived      Pclass         Age       SibSp  \\\n",
       "count   891.000000  891.000000  891.000000  714.000000  891.000000   \n",
       "mean    446.000000    0.383838    2.308642   29.699118    0.523008   \n",
       "std     257.353842    0.486592    0.836071   14.526497    1.102743   \n",
       "min       1.000000    0.000000    1.000000    0.420000    0.000000   \n",
       "25%     223.500000    0.000000    2.000000   20.125000    0.000000   \n",
       "50%     446.000000    0.000000    3.000000   28.000000    0.000000   \n",
       "75%     668.500000    1.000000    3.000000   38.000000    1.000000   \n",
       "max     891.000000    1.000000    3.000000   80.000000    8.000000   \n",
       "\n",
       "            Parch        Fare  \n",
       "count  891.000000  891.000000  \n",
       "mean     0.381594   32.204208  \n",
       "std      0.806057   49.693429  \n",
       "min      0.000000    0.000000  \n",
       "25%      0.000000    7.910400  \n",
       "50%      0.000000   14.454200  \n",
       "75%      0.000000   31.000000  \n",
       "max      6.000000  512.329200  "
      ]
     },
     "execution_count": 5,
     "metadata": {},
     "output_type": "execute_result"
    }
   ],
   "source": [
    "# Generate descriptive statistics.\n",
    "df.describe()"
   ]
  },
  {
   "cell_type": "code",
   "execution_count": null,
   "metadata": {
    "cell_id": "00006-579a6f92-1c0f-4bff-8b17-a3609f0988e2",
    "deepnote_cell_height": 366.4375,
    "deepnote_cell_type": "code",
    "deepnote_to_be_reexecuted": true,
    "execution": {
     "iopub.execute_input": "2022-06-17T22:22:29.738137Z",
     "iopub.status.busy": "2022-06-17T22:22:29.737507Z",
     "iopub.status.idle": "2022-06-17T22:22:29.747233Z",
     "shell.execute_reply": "2022-06-17T22:22:29.746392Z",
     "shell.execute_reply.started": "2022-06-17T22:22:29.738098Z"
    },
    "execution_millis": 0,
    "execution_start": 1655846538131,
    "source_hash": "b87c02ce"
   },
   "outputs": [
    {
     "data": {
      "text/plain": [
       "PassengerId      0\n",
       "Survived         0\n",
       "Pclass           0\n",
       "Name             0\n",
       "Sex              0\n",
       "Age            177\n",
       "SibSp            0\n",
       "Parch            0\n",
       "Ticket           0\n",
       "Fare             0\n",
       "Cabin          687\n",
       "Embarked         2\n",
       "dtype: int64"
      ]
     },
     "execution_count": 6,
     "metadata": {},
     "output_type": "execute_result"
    }
   ],
   "source": [
    "# return number of missing values\n",
    "df.isnull().sum()"
   ]
  },
  {
   "cell_type": "code",
   "execution_count": null,
   "metadata": {
    "cell_id": "00007-bf77e66d-320e-41f9-8d86-8ac3a284504c",
    "deepnote_cell_height": 136.1875,
    "deepnote_cell_type": "code",
    "deepnote_to_be_reexecuted": true,
    "execution": {
     "iopub.execute_input": "2022-06-17T22:22:31.888691Z",
     "iopub.status.busy": "2022-06-17T22:22:31.888186Z",
     "iopub.status.idle": "2022-06-17T22:22:31.897457Z",
     "shell.execute_reply": "2022-06-17T22:22:31.896837Z",
     "shell.execute_reply.started": "2022-06-17T22:22:31.888656Z"
    },
    "execution_millis": 1,
    "execution_start": 1655846538132,
    "source_hash": "82530e81"
   },
   "outputs": [
    {
     "data": {
      "text/plain": [
       "0"
      ]
     },
     "execution_count": 7,
     "metadata": {},
     "output_type": "execute_result"
    }
   ],
   "source": [
    "# Return boolean Series denoting duplicate rows.\n",
    "df.duplicated().sum()"
   ]
  },
  {
   "cell_type": "code",
   "execution_count": null,
   "metadata": {
    "cell_id": "00008-fe57ab40-0d49-4ec9-afc3-63019596125b",
    "deepnote_cell_height": 174.5625,
    "deepnote_cell_type": "code",
    "deepnote_to_be_reexecuted": true,
    "execution": {
     "iopub.execute_input": "2022-06-17T22:22:33.961554Z",
     "iopub.status.busy": "2022-06-17T22:22:33.961287Z",
     "iopub.status.idle": "2022-06-17T22:22:33.968725Z",
     "shell.execute_reply": "2022-06-17T22:22:33.967813Z",
     "shell.execute_reply.started": "2022-06-17T22:22:33.961526Z"
    },
    "execution_millis": 1,
    "execution_start": 1655846538176,
    "source_hash": "7482f291"
   },
   "outputs": [
    {
     "data": {
      "text/plain": [
       "0    549\n",
       "1    342\n",
       "Name: Survived, dtype: int64"
      ]
     },
     "execution_count": 8,
     "metadata": {},
     "output_type": "execute_result"
    }
   ],
   "source": [
    "# Return a Series containing counts of unique rows in the DataFrame\n",
    "df['Survived'].value_counts()"
   ]
  },
  {
   "cell_type": "code",
   "execution_count": null,
   "metadata": {
    "cell_id": "00009-65e9d006-a4b5-4076-b12e-296e00dacdcd",
    "deepnote_cell_height": 193.75,
    "deepnote_cell_type": "code",
    "deepnote_to_be_reexecuted": true,
    "execution": {
     "iopub.execute_input": "2022-06-17T22:22:36.057186Z",
     "iopub.status.busy": "2022-06-17T22:22:36.056779Z",
     "iopub.status.idle": "2022-06-17T22:22:36.063509Z",
     "shell.execute_reply": "2022-06-17T22:22:36.06269Z",
     "shell.execute_reply.started": "2022-06-17T22:22:36.057157Z"
    },
    "execution_millis": 6892803,
    "execution_start": 1655846538176,
    "source_hash": "15880b0"
   },
   "outputs": [
    {
     "data": {
      "text/plain": [
       "S    644\n",
       "C    168\n",
       "Q     77\n",
       "Name: Embarked, dtype: int64"
      ]
     },
     "execution_count": 9,
     "metadata": {},
     "output_type": "execute_result"
    }
   ],
   "source": [
    "# Return a Series containing counts of unique rows in the DataFrame\n",
    "df['Embarked'].value_counts()"
   ]
  },
  {
   "cell_type": "code",
   "execution_count": null,
   "metadata": {
    "cell_id": "00010-54f36866-5b39-4399-99b3-4ce90ec08a77",
    "deepnote_cell_height": 193.75,
    "deepnote_cell_type": "code",
    "deepnote_to_be_reexecuted": true,
    "execution": {
     "iopub.execute_input": "2022-06-17T22:22:38.25837Z",
     "iopub.status.busy": "2022-06-17T22:22:38.258091Z",
     "iopub.status.idle": "2022-06-17T22:22:38.264515Z",
     "shell.execute_reply": "2022-06-17T22:22:38.264005Z",
     "shell.execute_reply.started": "2022-06-17T22:22:38.258335Z"
    },
    "execution_millis": 6892794,
    "execution_start": 1655846538219,
    "source_hash": "276a1965"
   },
   "outputs": [
    {
     "data": {
      "text/plain": [
       "3    491\n",
       "1    216\n",
       "2    184\n",
       "Name: Pclass, dtype: int64"
      ]
     },
     "execution_count": 10,
     "metadata": {},
     "output_type": "execute_result"
    }
   ],
   "source": [
    "# Return a Series containing counts of unique rows in the DataFrame\n",
    "df['Pclass'].value_counts()"
   ]
  },
  {
   "cell_type": "markdown",
   "metadata": {
    "cell_id": "00011-912ba027-6f3d-4bbf-a7d9-74a53942c60d",
    "deepnote_cell_height": 52.390625,
    "deepnote_cell_type": "markdown"
   },
   "source": [
    "**Data Exploration**"
   ]
  },
  {
   "cell_type": "code",
   "execution_count": null,
   "metadata": {
    "cell_id": "00012-43e345c5-88b6-4997-a7a7-c24e6c7f86a7",
    "deepnote_cell_height": 498.1875,
    "deepnote_cell_type": "code",
    "deepnote_to_be_reexecuted": true,
    "execution": {
     "iopub.execute_input": "2022-06-17T22:22:40.485495Z",
     "iopub.status.busy": "2022-06-17T22:22:40.484683Z",
     "iopub.status.idle": "2022-06-17T22:22:40.981748Z",
     "shell.execute_reply": "2022-06-17T22:22:40.981159Z",
     "shell.execute_reply.started": "2022-06-17T22:22:40.485453Z"
    },
    "execution_millis": 1454,
    "execution_start": 1655846538220,
    "source_hash": "1d954e25"
   },
   "outputs": [
    {
     "data": {
      "text/plain": [
       "<AxesSubplot:>"
      ]
     },
     "execution_count": 11,
     "metadata": {},
     "output_type": "execute_result"
    },
    {
     "data": {
      "image/png": "[encoded data removed]",
      "text/plain": [
       "<Figure size 432x288 with 2 Axes>"
      ]
     },
     "metadata": {
      "image/png": {
       "height": 303,
       "width": 408
      },
      "needs_background": "light"
     },
     "output_type": "display_data"
    }
   ],
   "source": [
    "# Compute pairwise correlation of columns\n",
    "corr = df.corr()\n",
    "\n",
    "sns.heatmap(corr, annot=True, cmap='Blues')"
   ]
  },
  {
   "cell_type": "code",
   "execution_count": null,
   "metadata": {
    "cell_id": "00013-7082b9e8-e6d2-46c5-b0cf-85741226311f",
    "deepnote_cell_height": 413.1875,
    "deepnote_cell_type": "code",
    "deepnote_to_be_reexecuted": true,
    "execution": {
     "iopub.execute_input": "2022-06-17T22:22:42.770405Z",
     "iopub.status.busy": "2022-06-17T22:22:42.769913Z",
     "iopub.status.idle": "2022-06-17T22:22:42.985931Z",
     "shell.execute_reply": "2022-06-17T22:22:42.985024Z",
     "shell.execute_reply.started": "2022-06-17T22:22:42.770355Z"
    },
    "execution_millis": 570,
    "execution_start": 1655846539171,
    "source_hash": "cd8ddcd6"
   },
   "outputs": [
    {
     "data": {
      "text/plain": [
       "<AxesSubplot:xlabel='Embarked', ylabel='count'>"
      ]
     },
     "execution_count": 12,
     "metadata": {},
     "output_type": "execute_result"
    },
    {
     "data": {
      "image/png": "[encoded data removed]",
      "text/plain": [
       "<Figure size 432x288 with 1 Axes>"
      ]
     },
     "metadata": {
      "image/png": {
       "height": 262,
       "width": 389
      },
      "needs_background": "light"
     },
     "output_type": "display_data"
    }
   ],
   "source": [
    "sns.countplot(data=df, x='Embarked', hue='Survived')"
   ]
  },
  {
   "cell_type": "code",
   "execution_count": null,
   "metadata": {
    "cell_id": "00014-b24f8f79-20b7-4bca-8f57-a04968d4949d",
    "deepnote_cell_height": 413.1875,
    "deepnote_cell_type": "code",
    "deepnote_to_be_reexecuted": true,
    "execution": {
     "iopub.execute_input": "2022-06-17T22:22:44.9474Z",
     "iopub.status.busy": "2022-06-17T22:22:44.946541Z",
     "iopub.status.idle": "2022-06-17T22:22:45.191011Z",
     "shell.execute_reply": "2022-06-17T22:22:45.190142Z",
     "shell.execute_reply.started": "2022-06-17T22:22:44.947361Z"
    },
    "execution_millis": 346,
    "execution_start": 1655846539750,
    "source_hash": "5db50848"
   },
   "outputs": [
    {
     "data": {
      "text/plain": [
       "<AxesSubplot:xlabel='Age', ylabel='Count'>"
      ]
     },
     "execution_count": 13,
     "metadata": {},
     "output_type": "execute_result"
    },
    {
     "data": {
      "image/png": "[encoded data removed]",
      "text/plain": [
       "<Figure size 432x288 with 1 Axes>"
      ]
     },
     "metadata": {
      "image/png": {
       "height": 262,
       "width": 389
      },
      "needs_background": "light"
     },
     "output_type": "display_data"
    }
   ],
   "source": [
    "sns.histplot(data=df, x='Age')"
   ]
  },
  {
   "cell_type": "code",
   "execution_count": null,
   "metadata": {
    "cell_id": "00015-41ae0def-a5b3-4453-bea0-3a9099b05e81",
    "deepnote_cell_height": 413.1875,
    "deepnote_cell_type": "code",
    "deepnote_to_be_reexecuted": true,
    "execution": {
     "iopub.execute_input": "2022-06-17T22:22:47.102434Z",
     "iopub.status.busy": "2022-06-17T22:22:47.102166Z",
     "iopub.status.idle": "2022-06-17T22:22:47.291202Z",
     "shell.execute_reply": "2022-06-17T22:22:47.290402Z",
     "shell.execute_reply.started": "2022-06-17T22:22:47.102405Z"
    },
    "execution_millis": 372,
    "execution_start": 1655846540104,
    "source_hash": "23114071"
   },
   "outputs": [
    {
     "data": {
      "text/plain": [
       "<AxesSubplot:xlabel='Survived', ylabel='count'>"
      ]
     },
     "execution_count": 14,
     "metadata": {},
     "output_type": "execute_result"
    },
    {
     "data": {
      "image/png": "[encoded data removed]",
      "text/plain": [
       "<Figure size 432x288 with 1 Axes>"
      ]
     },
     "metadata": {
      "image/png": {
       "height": 262,
       "width": 389
      },
      "needs_background": "light"
     },
     "output_type": "display_data"
    }
   ],
   "source": [
    "sns.countplot(data=df, x='Survived', hue='Sex')"
   ]
  },
  {
   "cell_type": "code",
   "execution_count": null,
   "metadata": {
    "cell_id": "00016-8dfcab82-2cea-4d3e-8c28-9798efadb3aa",
    "deepnote_cell_height": 413.1875,
    "deepnote_cell_type": "code",
    "deepnote_to_be_reexecuted": true,
    "execution": {
     "iopub.execute_input": "2022-06-17T22:22:49.434214Z",
     "iopub.status.busy": "2022-06-17T22:22:49.433401Z",
     "iopub.status.idle": "2022-06-17T22:22:49.636669Z",
     "shell.execute_reply": "2022-06-17T22:22:49.635762Z",
     "shell.execute_reply.started": "2022-06-17T22:22:49.434169Z"
    },
    "execution_millis": 334,
    "execution_start": 1655846540495,
    "source_hash": "1a4bcf89"
   },
   "outputs": [
    {
     "data": {
      "text/plain": [
       "<AxesSubplot:xlabel='Embarked', ylabel='count'>"
      ]
     },
     "execution_count": 15,
     "metadata": {},
     "output_type": "execute_result"
    },
    {
     "data": {
      "image/png": "[encoded data removed]",
      "text/plain": [
       "<Figure size 432x288 with 1 Axes>"
      ]
     },
     "metadata": {
      "image/png": {
       "height": 262,
       "width": 389
      },
      "needs_background": "light"
     },
     "output_type": "display_data"
    }
   ],
   "source": [
    "sns.countplot(data=df, x='Embarked', hue='Sex')"
   ]
  },
  {
   "cell_type": "code",
   "execution_count": null,
   "metadata": {
    "cell_id": "00017-11290f6c-ef81-4d0d-9d7b-a94fca65c87d",
    "deepnote_cell_height": 99,
    "deepnote_cell_type": "code",
    "deepnote_to_be_reexecuted": true,
    "execution": {
     "iopub.execute_input": "2022-06-17T22:22:51.659977Z",
     "iopub.status.busy": "2022-06-17T22:22:51.659312Z",
     "iopub.status.idle": "2022-06-17T22:22:51.664536Z",
     "shell.execute_reply": "2022-06-17T22:22:51.663988Z",
     "shell.execute_reply.started": "2022-06-17T22:22:51.659906Z"
    },
    "execution_millis": 43,
    "execution_start": 1655846540832,
    "source_hash": "a6bf4f8c"
   },
   "outputs": [],
   "source": [
    "# Drop specified labels from columns.\n",
    "df = df.drop(['PassengerId', 'Name', 'Ticket', 'Cabin'], axis=1)"
   ]
  },
  {
   "cell_type": "code",
   "execution_count": null,
   "metadata": {
    "cell_id": "9ecf4389935e4eda9c68bff4c30ad83a",
    "deepnote_cell_height": 445,
    "deepnote_cell_type": "code",
    "deepnote_to_be_reexecuted": true,
    "execution_millis": 1486,
    "execution_start": 1655846540932,
    "source_hash": "972fe686",
    "tags": []
   },
   "outputs": [
    {
     "data": {
      "image/png": "[encoded data removed]",
      "text/plain": [
       "<Figure size 864x720 with 6 Axes>"
      ]
     },
     "metadata": {
      "image/png": {
       "height": 590,
       "width": 710
      },
      "needs_background": "light"
     },
     "output_type": "display_data"
    }
   ],
   "source": [
    "df.hist(figsize=(12, 10))\n",
    "plt.show()"
   ]
  },
  {
   "cell_type": "code",
   "execution_count": null,
   "metadata": {
    "cell_id": "00018-68c4e9cb-0bf4-4459-ba41-fb50ff2d9702",
    "deepnote_cell_height": 135,
    "deepnote_cell_type": "code",
    "deepnote_to_be_reexecuted": true,
    "execution": {
     "iopub.execute_input": "2022-06-17T22:22:53.759173Z",
     "iopub.status.busy": "2022-06-17T22:22:53.758377Z",
     "iopub.status.idle": "2022-06-17T22:22:53.764698Z",
     "shell.execute_reply": "2022-06-17T22:22:53.763876Z",
     "shell.execute_reply.started": "2022-06-17T22:22:53.759122Z"
    },
    "execution_millis": 134,
    "execution_start": 1655846542427,
    "source_hash": "3dfb945e"
   },
   "outputs": [],
   "source": [
    "# assigning Independent variables to X\n",
    "X = df.drop(['Survived'], axis=1)\n",
    "# assigning dependent variable y\n",
    "y = df['Survived']"
   ]
  },
  {
   "cell_type": "markdown",
   "metadata": {
    "cell_id": "00019-85173dc6-3ddc-4aea-8f99-81e7540aee14",
    "deepnote_cell_height": 52.390625,
    "deepnote_cell_type": "markdown"
   },
   "source": [
    "**Model Development**"
   ]
  },
  {
   "cell_type": "code",
   "execution_count": null,
   "metadata": {
    "cell_id": "00020-5fe67add-4d5d-4501-b837-3f97d10b262d",
    "deepnote_cell_height": 153,
    "deepnote_cell_type": "code",
    "deepnote_to_be_reexecuted": true,
    "execution": {
     "iopub.execute_input": "2022-06-17T22:22:56.018064Z",
     "iopub.status.busy": "2022-06-17T22:22:56.017378Z",
     "iopub.status.idle": "2022-06-17T22:22:56.023418Z",
     "shell.execute_reply": "2022-06-17T22:22:56.022842Z",
     "shell.execute_reply.started": "2022-06-17T22:22:56.018025Z"
    },
    "execution_millis": 11,
    "execution_start": 1655846542443,
    "source_hash": "f911639"
   },
   "outputs": [],
   "source": [
    "# Applies transformers to columns of an array or pandas DataFrame.\n",
    "transformer = ColumnTransformer([\n",
    "    (\"numeric\", make_pipeline(KNNImputer(), KBinsDiscretizer(encode='ordinal', strategy='uniform')), make_column_selector(dtype_exclude='object')),\n",
    "    (\"categorical\", make_pipeline(SimpleImputer(strategy='most_frequent'), OneHotEncoder(sparse=False, drop=\"first\")), make_column_selector(dtype_exclude=[\"int64\", \"float64\"]))\n",
    "])"
   ]
  },
  {
   "cell_type": "code",
   "execution_count": null,
   "metadata": {
    "cell_id": "00021-e82aaccc-e5a3-4770-aad4-2193f2f1885b",
    "deepnote_cell_height": 99,
    "deepnote_cell_type": "code",
    "deepnote_to_be_reexecuted": true,
    "execution": {
     "iopub.execute_input": "2022-06-17T22:22:58.096866Z",
     "iopub.status.busy": "2022-06-17T22:22:58.096208Z",
     "iopub.status.idle": "2022-06-17T22:22:58.142727Z",
     "shell.execute_reply": "2022-06-17T22:22:58.141559Z",
     "shell.execute_reply.started": "2022-06-17T22:22:58.096817Z"
    },
    "execution_millis": 41,
    "execution_start": 1655846542462,
    "source_hash": "83e75699"
   },
   "outputs": [],
   "source": [
    "# Fit all transformers, transform the data and concatenate results.\n",
    "x = transformer.fit_transform(X)"
   ]
  },
  {
   "cell_type": "code",
   "execution_count": null,
   "metadata": {
    "cell_id": "00022-77fb7968-7758-4a0b-b0a4-274ac7a8270f",
    "deepnote_cell_height": 99,
    "deepnote_cell_type": "code",
    "deepnote_to_be_reexecuted": true,
    "execution": {
     "iopub.execute_input": "2022-06-17T22:23:00.097374Z",
     "iopub.status.busy": "2022-06-17T22:23:00.097115Z",
     "iopub.status.idle": "2022-06-17T22:23:00.104544Z",
     "shell.execute_reply": "2022-06-17T22:23:00.103611Z",
     "shell.execute_reply.started": "2022-06-17T22:23:00.097346Z"
    },
    "execution_millis": 10,
    "execution_start": 1655846542507,
    "source_hash": "435fa821"
   },
   "outputs": [],
   "source": [
    "# Split arrays or matrices into random train and test subsets.\n",
    "x_train, x_test, y_train, y_test = train_test_split(x, y, test_size=0.26, random_state=1)"
   ]
  },
  {
   "cell_type": "code",
   "execution_count": null,
   "metadata": {
    "cell_id": "00023-742d4691-d71a-483e-a968-5d15c3ec9d06",
    "deepnote_cell_height": 224.78125,
    "deepnote_cell_type": "code",
    "deepnote_to_be_reexecuted": true,
    "execution": {
     "iopub.execute_input": "2022-06-17T22:23:02.25753Z",
     "iopub.status.busy": "2022-06-17T22:23:02.256912Z",
     "iopub.status.idle": "2022-06-17T22:23:02.262686Z",
     "shell.execute_reply": "2022-06-17T22:23:02.261975Z",
     "shell.execute_reply.started": "2022-06-17T22:23:02.257485Z"
    },
    "execution_millis": 52,
    "execution_start": 1655846542524,
    "source_hash": "175fdf67"
   },
   "outputs": [
    {
     "name": "stdout",
     "output_type": "stream",
     "text": [
      "(659, 8)\n",
      "(232, 8)\n",
      "(659,)\n",
      "(232,)\n"
     ]
    }
   ],
   "source": [
    "print(x_train.shape)\n",
    "print(x_test.shape)\n",
    "print(y_train.shape)\n",
    "print(y_test.shape)"
   ]
  },
  {
   "cell_type": "markdown",
   "metadata": {
    "cell_id": "00026-1a4858bf-f8da-4440-ad26-7a27b77e7026",
    "deepnote_cell_height": 52.390625,
    "deepnote_cell_type": "markdown"
   },
   "source": [
    "**Predicting Titanic Survivor Using Logistic Regression**"
   ]
  },
  {
   "cell_type": "code",
   "execution_count": null,
   "metadata": {
    "cell_id": "c1b1b0bc91084c53b5a474a2819bf32b",
    "deepnote_cell_height": 567,
    "deepnote_cell_type": "code",
    "deepnote_to_be_reexecuted": true,
    "execution_millis": 42,
    "execution_start": 1655846542546,
    "source_hash": "fc426dc2",
    "tags": []
   },
   "outputs": [],
   "source": [
    "# logging model to mlflow\n",
    "def train(rf_model, x_train, y_train):\n",
    "    rf_model = rf_model.fit(x_train, y_train)\n",
    "    train_acc = rf_model.score(x_train, y_train)\n",
    "    log_metric(\"Train Score\", train_acc)\n",
    "    print(\"Training Accuracy: {:.3f}\".format(train_acc))\n",
    "\n",
    "def evaluate(rf_model, x_test, y_test):\n",
    "    eval_acc = rf_model.score(x_test, y_test)\n",
    "    y_hat = rf_model.predict(x_test)\n",
    "\n",
    "    f1score = f1_score(y_test, y_hat)\n",
    "    acc = accuracy_score(y_test, y_hat)\n",
    "\n",
    "    log_metric(\"F1 Score\", f1score)\n",
    "    log_metric(\"Model Accuracy\", acc)\n",
    "\n",
    "    print(\"F1 Score: {:.3f}\".format(f1score))\n",
    "    print(\"Model Accuracy: {:.3f}\".format(acc))\n",
    "\n",
    "    con_matrix = confusion_matrix(y_test, y_hat)\n",
    "    ax = sns.heatmap(con_matrix, annot=True, fmt='g')\n",
    "    plt.ylabel(\"Actual\")\n",
    "    plt.xlabel(\"Predicted\")\n",
    "    plt.title(\"RF Confusion Matrix\")\n",
    "    plt.savefig(\"rf.png\")\n",
    "\n",
    "    log_artifact(\"rf.png\")"
   ]
  },
  {
   "cell_type": "code",
   "execution_count": null,
   "metadata": {
    "cell_id": "00030-ab4b58ac-1672-4d8a-a95f-04d586bf7ffe",
    "deepnote_cell_height": 81,
    "deepnote_cell_type": "code",
    "deepnote_to_be_reexecuted": true,
    "execution": {
     "iopub.execute_input": "2022-06-17T22:25:56.048557Z",
     "iopub.status.busy": "2022-06-17T22:25:56.047737Z",
     "iopub.status.idle": "2022-06-17T22:25:56.150577Z",
     "shell.execute_reply": "2022-06-17T22:25:56.149678Z",
     "shell.execute_reply.started": "2022-06-17T22:25:56.048512Z"
    },
    "execution_millis": 1,
    "execution_start": 1655846542588,
    "source_hash": "fc7763a8"
   },
   "outputs": [],
   "source": [
    "rf_model = RandomForestClassifier(n_estimators=90, criterion='entropy', max_depth=2, max_features=3, max_samples=1.0)"
   ]
  },
  {
   "cell_type": "code",
   "execution_count": null,
   "metadata": {
    "cell_id": "b1958fbc914c4498a5cc988bdcb0126c",
    "deepnote_cell_height": 589.78125,
    "deepnote_cell_type": "code",
    "deepnote_to_be_reexecuted": true,
    "execution_millis": 7056,
    "execution_start": 1655846542638,
    "source_hash": "be1c46a7",
    "tags": []
   },
   "outputs": [
    {
     "name": "stdout",
     "output_type": "stream",
     "text": [
      "Training Accuracy: 0.815\n",
      "F1 Score: 0.600\n",
      "Model Accuracy: 0.741\n",
      "Model run:  473d70ad4e014961b543f7027019f60b\n"
     ]
    },
    {
     "data": {
      "image/png": "[encoded data removed]",
      "text/plain": [
       "<Figure size 432x288 with 2 Axes>"
      ]
     },
     "metadata": {
      "image/png": {
       "height": 278,
       "width": 366
      },
      "needs_background": "light"
     },
     "output_type": "display_data"
    }
   ],
   "source": [
    "mlflow.set_experiment(\"Random Forest Classifier.\")\n",
    "with mlflow.start_run():\n",
    "    train(rf_model, x_train, y_train)\n",
    "    evaluate(rf_model, x_test, y_test)\n",
    "    mlflow.sklearn.log_model(rf_model, \"log_rf_model\")\n",
    "    print(\"Model run: \", mlflow.active_run().info.run_uuid)\n",
    "mlflow.end_run()"
   ]
  },
  {
   "cell_type": "markdown",
   "metadata": {
    "cell_id": "00034-62d4c7aa-b816-4c28-950f-944245b21084",
    "deepnote_cell_height": 52.390625,
    "deepnote_cell_type": "markdown"
   },
   "source": [
    "**Predicting Titanic Survivor Using Histogram-based Gradient Boosting Classification Tree.**"
   ]
  },
  {
   "cell_type": "code",
   "execution_count": null,
   "metadata": {
    "cell_id": "c38aa7baf540475d90b963112c911f5c",
    "deepnote_cell_height": 567,
    "deepnote_cell_type": "code",
    "deepnote_to_be_reexecuted": true,
    "execution_millis": 43,
    "execution_start": 1655846549712,
    "source_hash": "17e32e7d",
    "tags": []
   },
   "outputs": [],
   "source": [
    "# logging model to mlflow\n",
    "def train(dt_model, x_train, y_train):\n",
    "    dt_model = dt_model.fit(x_train, y_train)\n",
    "    train_acc = dt_model.score(x_train, y_train)\n",
    "    log_metric(\"Train Score\", train_acc)\n",
    "    print(\"Training Accuracy: {:.3f}\".format(train_acc))\n",
    "\n",
    "def evaluate(dt_model, x_test, y_test):\n",
    "    eval_acc = dt_model.score(x_test, y_test)\n",
    "    y_pred = dt_model.predict(x_test)\n",
    "\n",
    "    f1score = f1_score(y_test, y_pred)\n",
    "    acc = accuracy_score(y_test, y_pred)\n",
    "\n",
    "    log_metric(\"F1 Score\", f1score)\n",
    "    log_metric(\"Model Accuracy\", acc)\n",
    "\n",
    "    print(\"F1 Score: {:.3f}\".format(f1score))\n",
    "    print(\"Model Accuracy: {:.3f}\".format(acc))\n",
    "\n",
    "    con_matrix = confusion_matrix(y_test, y_pred)\n",
    "    ax = sns.heatmap(con_matrix, annot=True, fmt='g')\n",
    "    plt.ylabel(\"Actual\")\n",
    "    plt.xlabel(\"Predicted\")\n",
    "    plt.title(\"D Confusion Matrix\")\n",
    "    plt.savefig(\"dt.png\")\n",
    "\n",
    "    log_artifact(\"dt.png\")"
   ]
  },
  {
   "cell_type": "code",
   "execution_count": null,
   "metadata": {
    "cell_id": "00038-ea45ae56-60dc-4d03-a5ef-a25fb4797fb2",
    "deepnote_cell_height": 81,
    "deepnote_cell_type": "code",
    "deepnote_to_be_reexecuted": true,
    "execution": {
     "iopub.execute_input": "2022-06-17T22:27:12.47544Z",
     "iopub.status.busy": "2022-06-17T22:27:12.475232Z",
     "iopub.status.idle": "2022-06-17T22:27:12.55289Z",
     "shell.execute_reply": "2022-06-17T22:27:12.552048Z",
     "shell.execute_reply.started": "2022-06-17T22:27:12.475415Z"
    },
    "execution_millis": 43,
    "execution_start": 1655846549756,
    "source_hash": "966e7c93"
   },
   "outputs": [],
   "source": [
    "dt_model = DecisionTreeClassifier(random_state=0, max_depth=2)"
   ]
  },
  {
   "cell_type": "code",
   "execution_count": null,
   "metadata": {
    "cell_id": "c4600179ee404a76b5aa5ce2d53576c3",
    "deepnote_cell_height": 589.78125,
    "deepnote_cell_type": "code",
    "deepnote_to_be_reexecuted": true,
    "execution_millis": 5013,
    "execution_start": 1655846549799,
    "source_hash": "ec634663",
    "tags": []
   },
   "outputs": [
    {
     "name": "stdout",
     "output_type": "stream",
     "text": [
      "Training Accuracy: 0.803\n",
      "F1 Score: 0.589\n",
      "Model Accuracy: 0.741\n",
      "Model run:  37d8207621234bd584619abd716a82db\n"
     ]
    },
    {
     "data": {
      "image/png": "[encoded data removed]",
      "text/plain": [
       "<Figure size 432x288 with 2 Axes>"
      ]
     },
     "metadata": {
      "image/png": {
       "height": 278,
       "width": 366
      },
      "needs_background": "light"
     },
     "output_type": "display_data"
    }
   ],
   "source": [
    "mlflow.set_experiment(\"Decision Tree Classifier.\")\n",
    "with mlflow.start_run():\n",
    "    train(dt_model, x_train, y_train)\n",
    "    evaluate(dt_model, x_test, y_test)\n",
    "    mlflow.sklearn.log_model(dt_model, \"log_dt_model\")\n",
    "    print(\"Model run: \", mlflow.active_run().info.run_uuid)\n",
    "mlflow.end_run()"
   ]
  },
  {
   "cell_type": "code",
   "execution_count": null,
   "metadata": {
    "cell_id": "00043-49351c7a-a99c-4e01-9f0b-1086818040a4",
    "deepnote_cell_height": 153,
    "deepnote_cell_type": "code",
    "deepnote_to_be_reexecuted": true,
    "execution": {
     "iopub.execute_input": "2022-06-17T22:35:22.351307Z",
     "iopub.status.busy": "2022-06-17T22:35:22.350821Z",
     "iopub.status.idle": "2022-06-17T22:35:22.358493Z",
     "shell.execute_reply": "2022-06-17T22:35:22.357929Z",
     "shell.execute_reply.started": "2022-06-17T22:35:22.351271Z"
    },
    "execution_millis": 26,
    "execution_start": 1655846554833,
    "source_hash": "c50ae610"
   },
   "outputs": [],
   "source": [
    "# Write a pickled representation of obj to the open file object file.\n",
    "filename = \"KaggleTitanic.pkl\"\n",
    "\n",
    "with open(filename, 'wb') as file:\n",
    "    pickle.dump(rf_model, file)"
   ]
  },
  {
   "cell_type": "code",
   "execution_count": null,
   "metadata": {
    "cell_id": "00044-6bebbcfd-2a77-45b9-a420-c280ec732dd1",
    "deepnote_cell_height": 117,
    "deepnote_cell_type": "code",
    "deepnote_to_be_reexecuted": true,
    "execution": {
     "iopub.execute_input": "2022-06-17T22:35:27.575711Z",
     "iopub.status.busy": "2022-06-17T22:35:27.575247Z",
     "iopub.status.idle": "2022-06-17T22:35:27.58263Z",
     "shell.execute_reply": "2022-06-17T22:35:27.582027Z",
     "shell.execute_reply.started": "2022-06-17T22:35:27.575661Z"
    },
    "execution_millis": 50,
    "execution_start": 1655846554877,
    "source_hash": "cf5cb7a0"
   },
   "outputs": [],
   "source": [
    "# Read and return an object from the pickle data stored in a file.\n",
    "with open(filename, 'rb') as file:\n",
    "    model = pickle.load(file)"
   ]
  },
  {
   "cell_type": "markdown",
   "metadata": {
    "cell_id": "00045-abe94143-6e24-4b8a-a096-6cd3ed4b4d69",
    "deepnote_cell_height": 52.390625,
    "deepnote_cell_type": "markdown"
   },
   "source": [
    "**Loading Unseen Datasets for prediction on Trained Model**"
   ]
  },
  {
   "cell_type": "code",
   "execution_count": null,
   "metadata": {
    "cell_id": "00046-c2e3939d-692a-48fb-b40d-499303cc46ae",
    "deepnote_cell_height": 81,
    "deepnote_cell_type": "code",
    "deepnote_to_be_reexecuted": true,
    "execution": {
     "iopub.execute_input": "2022-06-17T22:35:30.842586Z",
     "iopub.status.busy": "2022-06-17T22:35:30.842144Z",
     "iopub.status.idle": "2022-06-17T22:35:30.853518Z",
     "shell.execute_reply": "2022-06-17T22:35:30.852941Z",
     "shell.execute_reply.started": "2022-06-17T22:35:30.84254Z"
    },
    "execution_millis": 48,
    "execution_start": 1655846554967,
    "source_hash": "472a9fe2"
   },
   "outputs": [],
   "source": [
    "test = pd.read_csv('/work/titanic/test.csv')"
   ]
  },
  {
   "cell_type": "code",
   "execution_count": null,
   "metadata": {
    "cell_id": "00047-27e8c1dc-0fc7-463f-827b-cb6e40b61fd9",
    "deepnote_cell_height": 395,
    "deepnote_cell_type": "code",
    "deepnote_to_be_reexecuted": true,
    "execution": {
     "iopub.execute_input": "2022-06-17T22:35:34.324742Z",
     "iopub.status.busy": "2022-06-17T22:35:34.324221Z",
     "iopub.status.idle": "2022-06-17T22:35:34.339729Z",
     "shell.execute_reply": "2022-06-17T22:35:34.338686Z",
     "shell.execute_reply.started": "2022-06-17T22:35:34.324694Z"
    },
    "execution_millis": 106,
    "execution_start": 1655846555015,
    "source_hash": "476785e4"
   },
   "outputs": [
    {
     "data": {
      "application/vnd.deepnote.dataframe.v3+json": {
       "column_count": 11,
       "columns": [
        {
         "dtype": "int64",
         "name": "PassengerId",
         "stats": {
          "histogram": [
           {
            "bin_end": 892.4,
            "bin_start": 892,
            "count": 1
           },
           {
            "bin_end": 892.8,
            "bin_start": 892.4,
            "count": 0
           },
           {
            "bin_end": 893.2,
            "bin_start": 892.8,
            "count": 1
           },
           {
            "bin_end": 893.6,
            "bin_start": 893.2,
            "count": 0
           },
           {
            "bin_end": 894,
            "bin_start": 893.6,
            "count": 0
           },
           {
            "bin_end": 894.4,
            "bin_start": 894,
            "count": 1
           },
           {
            "bin_end": 894.8,
            "bin_start": 894.4,
            "count": 0
           },
           {
            "bin_end": 895.2,
            "bin_start": 894.8,
            "count": 1
           },
           {
            "bin_end": 895.6,
            "bin_start": 895.2,
            "count": 0
           },
           {
            "bin_end": 896,
            "bin_start": 895.6,
            "count": 1
           }
          ],
          "max": "896",
          "min": "892",
          "nan_count": 0,
          "unique_count": 5
         }
        },
        {
         "dtype": "int64",
         "name": "Pclass",
         "stats": {
          "histogram": [
           {
            "bin_end": 2.1,
            "bin_start": 2,
            "count": 1
           },
           {
            "bin_end": 2.2,
            "bin_start": 2.1,
            "count": 0
           },
           {
            "bin_end": 2.3,
            "bin_start": 2.2,
            "count": 0
           },
           {
            "bin_end": 2.4,
            "bin_start": 2.3,
            "count": 0
           },
           {
            "bin_end": 2.5,
            "bin_start": 2.4,
            "count": 0
           },
           {
            "bin_end": 2.6,
            "bin_start": 2.5,
            "count": 0
           },
           {
            "bin_end": 2.7,
            "bin_start": 2.6,
            "count": 0
           },
           {
            "bin_end": 2.8,
            "bin_start": 2.7,
            "count": 0
           },
           {
            "bin_end": 2.9,
            "bin_start": 2.8,
            "count": 0
           },
           {
            "bin_end": 3,
            "bin_start": 2.9,
            "count": 4
           }
          ],
          "max": "3",
          "min": "2",
          "nan_count": 0,
          "unique_count": 2
         }
        },
        {
         "dtype": "object",
         "name": "Name",
         "stats": {
          "categories": [
           {
            "count": 1,
            "name": "Kelly, Mr. James"
           },
           {
            "count": 1,
            "name": "Wilkes, Mrs. James (Ellen Needs)"
           },
           {
            "count": 3,
            "name": "3 others"
           }
          ],
          "nan_count": 0,
          "unique_count": 5
         }
        },
        {
         "dtype": "object",
         "name": "Sex",
         "stats": {
          "categories": [
           {
            "count": 3,
            "name": "male"
           },
           {
            "count": 2,
            "name": "female"
           }
          ],
          "nan_count": 0,
          "unique_count": 2
         }
        },
        {
         "dtype": "float64",
         "name": "Age",
         "stats": {
          "histogram": [
           {
            "bin_end": 26,
            "bin_start": 22,
            "count": 1
           },
           {
            "bin_end": 30,
            "bin_start": 26,
            "count": 1
           },
           {
            "bin_end": 34,
            "bin_start": 30,
            "count": 0
           },
           {
            "bin_end": 38,
            "bin_start": 34,
            "count": 1
           },
           {
            "bin_end": 42,
            "bin_start": 38,
            "count": 0
           },
           {
            "bin_end": 46,
            "bin_start": 42,
            "count": 0
           },
           {
            "bin_end": 50,
            "bin_start": 46,
            "count": 1
           },
           {
            "bin_end": 54,
            "bin_start": 50,
            "count": 0
           },
           {
            "bin_end": 58,
            "bin_start": 54,
            "count": 0
           },
           {
            "bin_end": 62,
            "bin_start": 58,
            "count": 1
           }
          ],
          "max": "62.0",
          "min": "22.0",
          "nan_count": 0,
          "unique_count": 5
         }
        },
        {
         "dtype": "int64",
         "name": "SibSp",
         "stats": {
          "histogram": [
           {
            "bin_end": 0.1,
            "bin_start": 0,
            "count": 3
           },
           {
            "bin_end": 0.2,
            "bin_start": 0.1,
            "count": 0
           },
           {
            "bin_end": 0.30000000000000004,
            "bin_start": 0.2,
            "count": 0
           },
           {
            "bin_end": 0.4,
            "bin_start": 0.30000000000000004,
            "count": 0
           },
           {
            "bin_end": 0.5,
            "bin_start": 0.4,
            "count": 0
           },
           {
            "bin_end": 0.6000000000000001,
            "bin_start": 0.5,
            "count": 0
           },
           {
            "bin_end": 0.7000000000000001,
            "bin_start": 0.6000000000000001,
            "count": 0
           },
           {
            "bin_end": 0.8,
            "bin_start": 0.7000000000000001,
            "count": 0
           },
           {
            "bin_end": 0.9,
            "bin_start": 0.8,
            "count": 0
           },
           {
            "bin_end": 1,
            "bin_start": 0.9,
            "count": 2
           }
          ],
          "max": "1",
          "min": "0",
          "nan_count": 0,
          "unique_count": 2
         }
        },
        {
         "dtype": "int64",
         "name": "Parch",
         "stats": {
          "histogram": [
           {
            "bin_end": 0.1,
            "bin_start": 0,
            "count": 4
           },
           {
            "bin_end": 0.2,
            "bin_start": 0.1,
            "count": 0
           },
           {
            "bin_end": 0.30000000000000004,
            "bin_start": 0.2,
            "count": 0
           },
           {
            "bin_end": 0.4,
            "bin_start": 0.30000000000000004,
            "count": 0
           },
           {
            "bin_end": 0.5,
            "bin_start": 0.4,
            "count": 0
           },
           {
            "bin_end": 0.6000000000000001,
            "bin_start": 0.5,
            "count": 0
           },
           {
            "bin_end": 0.7000000000000001,
            "bin_start": 0.6000000000000001,
            "count": 0
           },
           {
            "bin_end": 0.8,
            "bin_start": 0.7000000000000001,
            "count": 0
           },
           {
            "bin_end": 0.9,
            "bin_start": 0.8,
            "count": 0
           },
           {
            "bin_end": 1,
            "bin_start": 0.9,
            "count": 1
           }
          ],
          "max": "1",
          "min": "0",
          "nan_count": 0,
          "unique_count": 2
         }
        },
        {
         "dtype": "object",
         "name": "Ticket",
         "stats": {
          "categories": [
           {
            "count": 1,
            "name": "330911"
           },
           {
            "count": 1,
            "name": "363272"
           },
           {
            "count": 3,
            "name": "3 others"
           }
          ],
          "nan_count": 0,
          "unique_count": 5
         }
        },
        {
         "dtype": "float64",
         "name": "Fare",
         "stats": {
          "histogram": [
           {
            "bin_end": 7.52875,
            "bin_start": 7,
            "count": 1
           },
           {
            "bin_end": 8.0575,
            "bin_start": 7.52875,
            "count": 1
           },
           {
            "bin_end": 8.58625,
            "bin_start": 8.0575,
            "count": 0
           },
           {
            "bin_end": 9.115,
            "bin_start": 8.58625,
            "count": 1
           },
           {
            "bin_end": 9.64375,
            "bin_start": 9.115,
            "count": 0
           },
           {
            "bin_end": 10.1725,
            "bin_start": 9.64375,
            "count": 1
           },
           {
            "bin_end": 10.70125,
            "bin_start": 10.1725,
            "count": 0
           },
           {
            "bin_end": 11.23,
            "bin_start": 10.70125,
            "count": 0
           },
           {
            "bin_end": 11.75875,
            "bin_start": 11.23,
            "count": 0
           },
           {
            "bin_end": 12.2875,
            "bin_start": 11.75875,
            "count": 1
           }
          ],
          "max": "12.2875",
          "min": "7.0",
          "nan_count": 0,
          "unique_count": 5
         }
        },
        {
         "dtype": "object",
         "name": "Cabin",
         "stats": {
          "categories": [
           {
            "count": 5,
            "name": "Missing"
           }
          ],
          "nan_count": 5,
          "unique_count": 0
         }
        },
        {
         "dtype": "object",
         "name": "Embarked",
         "stats": {
          "categories": [
           {
            "count": 3,
            "name": "S"
           },
           {
            "count": 2,
            "name": "Q"
           }
          ],
          "nan_count": 0,
          "unique_count": 2
         }
        },
        {
         "dtype": "int64",
         "name": "_deepnote_index_column"
        }
       ],
       "row_count": 5,
       "rows": [
        {
         "Age": 34.5,
         "Cabin": "nan",
         "Embarked": "Q",
         "Fare": 7.8292,
         "Name": "Kelly, Mr. James",
         "Parch": 0,
         "PassengerId": 892,
         "Pclass": 3,
         "Sex": "male",
         "SibSp": 0,
         "Ticket": "330911",
         "_deepnote_index_column": 0
        },
        {
         "Age": 47,
         "Cabin": "nan",
         "Embarked": "S",
         "Fare": 7,
         "Name": "Wilkes, Mrs. James (Ellen Needs)",
         "Parch": 0,
         "PassengerId": 893,
         "Pclass": 3,
         "Sex": "female",
         "SibSp": 1,
         "Ticket": "363272",
         "_deepnote_index_column": 1
        },
        {
         "Age": 62,
         "Cabin": "nan",
         "Embarked": "Q",
         "Fare": 9.6875,
         "Name": "Myles, Mr. Thomas Francis",
         "Parch": 0,
         "PassengerId": 894,
         "Pclass": 2,
         "Sex": "male",
         "SibSp": 0,
         "Ticket": "240276",
         "_deepnote_index_column": 2
        },
        {
         "Age": 27,
         "Cabin": "nan",
         "Embarked": "S",
         "Fare": 8.6625,
         "Name": "Wirz, Mr. Albert",
         "Parch": 0,
         "PassengerId": 895,
         "Pclass": 3,
         "Sex": "male",
         "SibSp": 0,
         "Ticket": "315154",
         "_deepnote_index_column": 3
        },
        {
         "Age": 22,
         "Cabin": "nan",
         "Embarked": "S",
         "Fare": 12.2875,
         "Name": "Hirvonen, Mrs. Alexander (Helga E Lindqvist)",
         "Parch": 1,
         "PassengerId": 896,
         "Pclass": 3,
         "Sex": "female",
         "SibSp": 1,
         "Ticket": "3101298",
         "_deepnote_index_column": 4
        }
       ]
      },
      "text/html": [
       "<div>\n",
       "<style scoped>\n",
       "    .dataframe tbody tr th:only-of-type {\n",
       "        vertical-align: middle;\n",
       "    }\n",
       "\n",
       "    .dataframe tbody tr th {\n",
       "        vertical-align: top;\n",
       "    }\n",
       "\n",
       "    .dataframe thead th {\n",
       "        text-align: right;\n",
       "    }\n",
       "</style>\n",
       "<table border=\"1\" class=\"dataframe\">\n",
       "  <thead>\n",
       "    <tr style=\"text-align: right;\">\n",
       "      <th></th>\n",
       "      <th>PassengerId</th>\n",
       "      <th>Pclass</th>\n",
       "      <th>Name</th>\n",
       "      <th>Sex</th>\n",
       "      <th>Age</th>\n",
       "      <th>SibSp</th>\n",
       "      <th>Parch</th>\n",
       "      <th>Ticket</th>\n",
       "      <th>Fare</th>\n",
       "      <th>Cabin</th>\n",
       "      <th>Embarked</th>\n",
       "    </tr>\n",
       "  </thead>\n",
       "  <tbody>\n",
       "    <tr>\n",
       "      <th>0</th>\n",
       "      <td>892</td>\n",
       "      <td>3</td>\n",
       "      <td>Kelly, Mr. James</td>\n",
       "      <td>male</td>\n",
       "      <td>34.5</td>\n",
       "      <td>0</td>\n",
       "      <td>0</td>\n",
       "      <td>330911</td>\n",
       "      <td>7.8292</td>\n",
       "      <td>NaN</td>\n",
       "      <td>Q</td>\n",
       "    </tr>\n",
       "    <tr>\n",
       "      <th>1</th>\n",
       "      <td>893</td>\n",
       "      <td>3</td>\n",
       "      <td>Wilkes, Mrs. James (Ellen Needs)</td>\n",
       "      <td>female</td>\n",
       "      <td>47.0</td>\n",
       "      <td>1</td>\n",
       "      <td>0</td>\n",
       "      <td>363272</td>\n",
       "      <td>7.0000</td>\n",
       "      <td>NaN</td>\n",
       "      <td>S</td>\n",
       "    </tr>\n",
       "    <tr>\n",
       "      <th>2</th>\n",
       "      <td>894</td>\n",
       "      <td>2</td>\n",
       "      <td>Myles, Mr. Thomas Francis</td>\n",
       "      <td>male</td>\n",
       "      <td>62.0</td>\n",
       "      <td>0</td>\n",
       "      <td>0</td>\n",
       "      <td>240276</td>\n",
       "      <td>9.6875</td>\n",
       "      <td>NaN</td>\n",
       "      <td>Q</td>\n",
       "    </tr>\n",
       "    <tr>\n",
       "      <th>3</th>\n",
       "      <td>895</td>\n",
       "      <td>3</td>\n",
       "      <td>Wirz, Mr. Albert</td>\n",
       "      <td>male</td>\n",
       "      <td>27.0</td>\n",
       "      <td>0</td>\n",
       "      <td>0</td>\n",
       "      <td>315154</td>\n",
       "      <td>8.6625</td>\n",
       "      <td>NaN</td>\n",
       "      <td>S</td>\n",
       "    </tr>\n",
       "    <tr>\n",
       "      <th>4</th>\n",
       "      <td>896</td>\n",
       "      <td>3</td>\n",
       "      <td>Hirvonen, Mrs. Alexander (Helga E Lindqvist)</td>\n",
       "      <td>female</td>\n",
       "      <td>22.0</td>\n",
       "      <td>1</td>\n",
       "      <td>1</td>\n",
       "      <td>3101298</td>\n",
       "      <td>12.2875</td>\n",
       "      <td>NaN</td>\n",
       "      <td>S</td>\n",
       "    </tr>\n",
       "  </tbody>\n",
       "</table>\n",
       "</div>"
      ],
      "text/plain": [
       "   PassengerId  Pclass                                          Name     Sex  \\\n",
       "0          892       3                              Kelly, Mr. James    male   \n",
       "1          893       3              Wilkes, Mrs. James (Ellen Needs)  female   \n",
       "2          894       2                     Myles, Mr. Thomas Francis    male   \n",
       "3          895       3                              Wirz, Mr. Albert    male   \n",
       "4          896       3  Hirvonen, Mrs. Alexander (Helga E Lindqvist)  female   \n",
       "\n",
       "    Age  SibSp  Parch   Ticket     Fare Cabin Embarked  \n",
       "0  34.5      0      0   330911   7.8292   NaN        Q  \n",
       "1  47.0      1      0   363272   7.0000   NaN        S  \n",
       "2  62.0      0      0   240276   9.6875   NaN        Q  \n",
       "3  27.0      0      0   315154   8.6625   NaN        S  \n",
       "4  22.0      1      1  3101298  12.2875   NaN        S  "
      ]
     },
     "execution_count": 32,
     "metadata": {},
     "output_type": "execute_result"
    }
   ],
   "source": [
    "test.head()"
   ]
  },
  {
   "cell_type": "code",
   "execution_count": null,
   "metadata": {
    "cell_id": "00048-bdaf1b73-5b0b-42a3-bfe1-e8b310da9283",
    "deepnote_cell_height": 99,
    "deepnote_cell_type": "code",
    "deepnote_to_be_reexecuted": true,
    "execution": {
     "iopub.execute_input": "2022-06-17T22:35:38.284943Z",
     "iopub.status.busy": "2022-06-17T22:35:38.284358Z",
     "iopub.status.idle": "2022-06-17T22:35:38.290638Z",
     "shell.execute_reply": "2022-06-17T22:35:38.290027Z",
     "shell.execute_reply.started": "2022-06-17T22:35:38.284892Z"
    },
    "execution_millis": 0,
    "execution_start": 1655846555171,
    "source_hash": "24977b93"
   },
   "outputs": [],
   "source": [
    "new = test.drop(['PassengerId'], axis=1)\n",
    "testid = test['PassengerId']"
   ]
  },
  {
   "cell_type": "code",
   "execution_count": null,
   "metadata": {
    "cell_id": "00049-d1050783-935f-4534-aced-f21e3adc1c22",
    "deepnote_cell_height": 310.0625,
    "deepnote_cell_type": "code",
    "deepnote_to_be_reexecuted": true,
    "execution": {
     "iopub.execute_input": "2022-06-17T22:35:41.553472Z",
     "iopub.status.busy": "2022-06-17T22:35:41.552712Z",
     "iopub.status.idle": "2022-06-17T22:35:41.564527Z",
     "shell.execute_reply": "2022-06-17T22:35:41.563773Z",
     "shell.execute_reply.started": "2022-06-17T22:35:41.55342Z"
    },
    "execution_millis": 44,
    "execution_start": 1655846555172,
    "source_hash": "4ce46798"
   },
   "outputs": [
    {
     "data": {
      "text/plain": [
       "Pclass        0\n",
       "Name          0\n",
       "Sex           0\n",
       "Age          86\n",
       "SibSp         0\n",
       "Parch         0\n",
       "Ticket        0\n",
       "Fare          1\n",
       "Cabin       327\n",
       "Embarked      0\n",
       "dtype: int64"
      ]
     },
     "execution_count": 34,
     "metadata": {},
     "output_type": "execute_result"
    }
   ],
   "source": [
    "new.isnull().sum()"
   ]
  },
  {
   "cell_type": "code",
   "execution_count": null,
   "metadata": {
    "cell_id": "00050-46d01eb9-ab75-4bc8-aa73-f2ba6a695a12",
    "deepnote_cell_height": 81,
    "deepnote_cell_type": "code",
    "deepnote_to_be_reexecuted": true,
    "execution": {
     "iopub.execute_input": "2022-06-17T22:35:45.023108Z",
     "iopub.status.busy": "2022-06-17T22:35:45.022372Z",
     "iopub.status.idle": "2022-06-17T22:35:45.028149Z",
     "shell.execute_reply": "2022-06-17T22:35:45.027456Z",
     "shell.execute_reply.started": "2022-06-17T22:35:45.023072Z"
    },
    "execution_millis": 28,
    "execution_start": 1655846555221,
    "source_hash": "44bdbf7e"
   },
   "outputs": [],
   "source": [
    "new = new.drop(['Name', 'Ticket', 'Cabin'], axis=1)"
   ]
  },
  {
   "cell_type": "code",
   "execution_count": null,
   "metadata": {
    "cell_id": "00051-70465c8f-3bbd-4304-b8f5-77a8fc01bbbb",
    "deepnote_cell_height": 153,
    "deepnote_cell_type": "code",
    "deepnote_to_be_reexecuted": true,
    "execution": {
     "iopub.execute_input": "2022-06-17T22:35:48.298552Z",
     "iopub.status.busy": "2022-06-17T22:35:48.297861Z",
     "iopub.status.idle": "2022-06-17T22:35:48.304005Z",
     "shell.execute_reply": "2022-06-17T22:35:48.302912Z",
     "shell.execute_reply.started": "2022-06-17T22:35:48.298502Z"
    },
    "execution_millis": 0,
    "execution_start": 1655846555295,
    "source_hash": "a2e56099"
   },
   "outputs": [],
   "source": [
    "# Applies transformers to columns of an array or pandas DataFrame.\n",
    "transformer = ColumnTransformer([\n",
    "    (\"numeric\", make_pipeline(KNNImputer(), KBinsDiscretizer(encode='ordinal', strategy='uniform')), make_column_selector(dtype_exclude='object')),\n",
    "    (\"categorical\", make_pipeline(SimpleImputer(strategy='most_frequent'), OneHotEncoder(sparse=False, drop=\"first\")), make_column_selector(dtype_include=\"object\"))\n",
    "])"
   ]
  },
  {
   "cell_type": "code",
   "execution_count": null,
   "metadata": {
    "cell_id": "00052-96d2771d-54f0-4688-8f1c-e51bf5ffd809",
    "deepnote_cell_height": 81,
    "deepnote_cell_type": "code",
    "deepnote_to_be_reexecuted": true,
    "execution": {
     "iopub.execute_input": "2022-06-17T22:40:16.939675Z",
     "iopub.status.busy": "2022-06-17T22:40:16.939411Z",
     "iopub.status.idle": "2022-06-17T22:40:16.963301Z",
     "shell.execute_reply": "2022-06-17T22:40:16.962445Z",
     "shell.execute_reply.started": "2022-06-17T22:40:16.939646Z"
    },
    "execution_millis": 54,
    "execution_start": 1655846555340,
    "source_hash": "c745ddcf"
   },
   "outputs": [],
   "source": [
    "nw = transformer.fit_transform(new)"
   ]
  },
  {
   "cell_type": "code",
   "execution_count": null,
   "metadata": {
    "cell_id": "00053-95524178-7d5a-4be6-99aa-0673871bc036",
    "deepnote_cell_height": 81,
    "deepnote_cell_type": "code",
    "deepnote_to_be_reexecuted": true,
    "execution": {
     "iopub.execute_input": "2022-06-17T22:40:24.17888Z",
     "iopub.status.busy": "2022-06-17T22:40:24.178517Z",
     "iopub.status.idle": "2022-06-17T22:40:24.193873Z",
     "shell.execute_reply": "2022-06-17T22:40:24.193043Z",
     "shell.execute_reply.started": "2022-06-17T22:40:24.178804Z"
    },
    "execution_millis": 45,
    "execution_start": 1655846555462,
    "source_hash": "f0c68e57"
   },
   "outputs": [],
   "source": [
    "predictiom = model.predict(nw)"
   ]
  },
  {
   "cell_type": "code",
   "execution_count": null,
   "metadata": {
    "cell_id": "00054-108480d7-2a41-491c-9b76-a5bd813d38de",
    "deepnote_cell_height": 449,
    "deepnote_cell_type": "code",
    "deepnote_to_be_reexecuted": true,
    "execution": {
     "iopub.execute_input": "2022-06-17T22:40:39.345734Z",
     "iopub.status.busy": "2022-06-17T22:40:39.345429Z",
     "iopub.status.idle": "2022-06-17T22:40:39.354969Z",
     "shell.execute_reply": "2022-06-17T22:40:39.354075Z",
     "shell.execute_reply.started": "2022-06-17T22:40:39.345699Z"
    },
    "execution_millis": 2,
    "execution_start": 1655846555552,
    "source_hash": "92af37b4"
   },
   "outputs": [
    {
     "data": {
      "application/vnd.deepnote.dataframe.v3+json": {
       "column_count": 1,
       "columns": [
        {
         "dtype": "int64",
         "name": "Survived",
         "stats": {
          "histogram": [
           {
            "bin_end": -0.4,
            "bin_start": -0.5,
            "count": 0
           },
           {
            "bin_end": -0.3,
            "bin_start": -0.4,
            "count": 0
           },
           {
            "bin_end": -0.19999999999999996,
            "bin_start": -0.3,
            "count": 0
           },
           {
            "bin_end": -0.09999999999999998,
            "bin_start": -0.19999999999999996,
            "count": 0
           },
           {
            "bin_end": 0,
            "bin_start": -0.09999999999999998,
            "count": 0
           },
           {
            "bin_end": 0.10000000000000009,
            "bin_start": 0,
            "count": 5
           },
           {
            "bin_end": 0.20000000000000007,
            "bin_start": 0.10000000000000009,
            "count": 0
           },
           {
            "bin_end": 0.30000000000000004,
            "bin_start": 0.20000000000000007,
            "count": 0
           },
           {
            "bin_end": 0.4,
            "bin_start": 0.30000000000000004,
            "count": 0
           },
           {
            "bin_end": 0.5,
            "bin_start": 0.4,
            "count": 0
           }
          ],
          "max": "0",
          "min": "0",
          "nan_count": 0,
          "unique_count": 1
         }
        },
        {
         "dtype": "int64",
         "name": "_deepnote_index_column"
        }
       ],
       "row_count": 5,
       "rows": [
        {
         "Survived": 0,
         "_deepnote_index_column": 0
        },
        {
         "Survived": 0,
         "_deepnote_index_column": 1
        },
        {
         "Survived": 0,
         "_deepnote_index_column": 2
        },
        {
         "Survived": 0,
         "_deepnote_index_column": 3
        },
        {
         "Survived": 0,
         "_deepnote_index_column": 4
        }
       ]
      },
      "text/html": [
       "<div>\n",
       "<style scoped>\n",
       "    .dataframe tbody tr th:only-of-type {\n",
       "        vertical-align: middle;\n",
       "    }\n",
       "\n",
       "    .dataframe tbody tr th {\n",
       "        vertical-align: top;\n",
       "    }\n",
       "\n",
       "    .dataframe thead th {\n",
       "        text-align: right;\n",
       "    }\n",
       "</style>\n",
       "<table border=\"1\" class=\"dataframe\">\n",
       "  <thead>\n",
       "    <tr style=\"text-align: right;\">\n",
       "      <th></th>\n",
       "      <th>Survived</th>\n",
       "    </tr>\n",
       "  </thead>\n",
       "  <tbody>\n",
       "    <tr>\n",
       "      <th>0</th>\n",
       "      <td>0</td>\n",
       "    </tr>\n",
       "    <tr>\n",
       "      <th>1</th>\n",
       "      <td>0</td>\n",
       "    </tr>\n",
       "    <tr>\n",
       "      <th>2</th>\n",
       "      <td>0</td>\n",
       "    </tr>\n",
       "    <tr>\n",
       "      <th>3</th>\n",
       "      <td>0</td>\n",
       "    </tr>\n",
       "    <tr>\n",
       "      <th>4</th>\n",
       "      <td>0</td>\n",
       "    </tr>\n",
       "  </tbody>\n",
       "</table>\n",
       "</div>"
      ],
      "text/plain": [
       "   Survived\n",
       "0         0\n",
       "1         0\n",
       "2         0\n",
       "3         0\n",
       "4         0"
      ]
     },
     "execution_count": 39,
     "metadata": {},
     "output_type": "execute_result"
    }
   ],
   "source": [
    "# creating Dataframe\n",
    "submit = pd.DataFrame(predictiom, columns=['Survived'])\n",
    "# returns the first 5 row\n",
    "submit.head()"
   ]
  },
  {
   "cell_type": "code",
   "execution_count": null,
   "metadata": {
    "cell_id": "00055-1a9de83c-7d95-48a0-b6ad-fa11f93fe769",
    "deepnote_cell_height": 413,
    "deepnote_cell_type": "code",
    "deepnote_to_be_reexecuted": true,
    "execution": {
     "iopub.execute_input": "2022-06-17T22:40:59.972292Z",
     "iopub.status.busy": "2022-06-17T22:40:59.971984Z",
     "iopub.status.idle": "2022-06-17T22:40:59.982772Z",
     "shell.execute_reply": "2022-06-17T22:40:59.981709Z",
     "shell.execute_reply.started": "2022-06-17T22:40:59.972253Z"
    },
    "execution_millis": 46,
    "execution_start": 1655846555599,
    "source_hash": "c469f667"
   },
   "outputs": [
    {
     "data": {
      "application/vnd.deepnote.dataframe.v3+json": {
       "column_count": 2,
       "columns": [
        {
         "dtype": "int64",
         "name": "PassengerId",
         "stats": {
          "histogram": [
           {
            "bin_end": 892.4,
            "bin_start": 892,
            "count": 1
           },
           {
            "bin_end": 892.8,
            "bin_start": 892.4,
            "count": 0
           },
           {
            "bin_end": 893.2,
            "bin_start": 892.8,
            "count": 1
           },
           {
            "bin_end": 893.6,
            "bin_start": 893.2,
            "count": 0
           },
           {
            "bin_end": 894,
            "bin_start": 893.6,
            "count": 0
           },
           {
            "bin_end": 894.4,
            "bin_start": 894,
            "count": 1
           },
           {
            "bin_end": 894.8,
            "bin_start": 894.4,
            "count": 0
           },
           {
            "bin_end": 895.2,
            "bin_start": 894.8,
            "count": 1
           },
           {
            "bin_end": 895.6,
            "bin_start": 895.2,
            "count": 0
           },
           {
            "bin_end": 896,
            "bin_start": 895.6,
            "count": 1
           }
          ],
          "max": "896",
          "min": "892",
          "nan_count": 0,
          "unique_count": 5
         }
        },
        {
         "dtype": "int64",
         "name": "Survived",
         "stats": {
          "histogram": [
           {
            "bin_end": -0.4,
            "bin_start": -0.5,
            "count": 0
           },
           {
            "bin_end": -0.3,
            "bin_start": -0.4,
            "count": 0
           },
           {
            "bin_end": -0.19999999999999996,
            "bin_start": -0.3,
            "count": 0
           },
           {
            "bin_end": -0.09999999999999998,
            "bin_start": -0.19999999999999996,
            "count": 0
           },
           {
            "bin_end": 0,
            "bin_start": -0.09999999999999998,
            "count": 0
           },
           {
            "bin_end": 0.10000000000000009,
            "bin_start": 0,
            "count": 5
           },
           {
            "bin_end": 0.20000000000000007,
            "bin_start": 0.10000000000000009,
            "count": 0
           },
           {
            "bin_end": 0.30000000000000004,
            "bin_start": 0.20000000000000007,
            "count": 0
           },
           {
            "bin_end": 0.4,
            "bin_start": 0.30000000000000004,
            "count": 0
           },
           {
            "bin_end": 0.5,
            "bin_start": 0.4,
            "count": 0
           }
          ],
          "max": "0",
          "min": "0",
          "nan_count": 0,
          "unique_count": 1
         }
        },
        {
         "dtype": "int64",
         "name": "_deepnote_index_column"
        }
       ],
       "row_count": 5,
       "rows": [
        {
         "PassengerId": 892,
         "Survived": 0,
         "_deepnote_index_column": 0
        },
        {
         "PassengerId": 893,
         "Survived": 0,
         "_deepnote_index_column": 1
        },
        {
         "PassengerId": 894,
         "Survived": 0,
         "_deepnote_index_column": 2
        },
        {
         "PassengerId": 895,
         "Survived": 0,
         "_deepnote_index_column": 3
        },
        {
         "PassengerId": 896,
         "Survived": 0,
         "_deepnote_index_column": 4
        }
       ]
      },
      "text/html": [
       "<div>\n",
       "<style scoped>\n",
       "    .dataframe tbody tr th:only-of-type {\n",
       "        vertical-align: middle;\n",
       "    }\n",
       "\n",
       "    .dataframe tbody tr th {\n",
       "        vertical-align: top;\n",
       "    }\n",
       "\n",
       "    .dataframe thead th {\n",
       "        text-align: right;\n",
       "    }\n",
       "</style>\n",
       "<table border=\"1\" class=\"dataframe\">\n",
       "  <thead>\n",
       "    <tr style=\"text-align: right;\">\n",
       "      <th></th>\n",
       "      <th>PassengerId</th>\n",
       "      <th>Survived</th>\n",
       "    </tr>\n",
       "  </thead>\n",
       "  <tbody>\n",
       "    <tr>\n",
       "      <th>0</th>\n",
       "      <td>892</td>\n",
       "      <td>0</td>\n",
       "    </tr>\n",
       "    <tr>\n",
       "      <th>1</th>\n",
       "      <td>893</td>\n",
       "      <td>0</td>\n",
       "    </tr>\n",
       "    <tr>\n",
       "      <th>2</th>\n",
       "      <td>894</td>\n",
       "      <td>0</td>\n",
       "    </tr>\n",
       "    <tr>\n",
       "      <th>3</th>\n",
       "      <td>895</td>\n",
       "      <td>0</td>\n",
       "    </tr>\n",
       "    <tr>\n",
       "      <th>4</th>\n",
       "      <td>896</td>\n",
       "      <td>0</td>\n",
       "    </tr>\n",
       "  </tbody>\n",
       "</table>\n",
       "</div>"
      ],
      "text/plain": [
       "   PassengerId  Survived\n",
       "0          892         0\n",
       "1          893         0\n",
       "2          894         0\n",
       "3          895         0\n",
       "4          896         0"
      ]
     },
     "execution_count": 40,
     "metadata": {},
     "output_type": "execute_result"
    }
   ],
   "source": [
    "nel = pd.concat([testid, submit], axis=1)\n",
    "nel.head()"
   ]
  },
  {
   "cell_type": "code",
   "execution_count": null,
   "metadata": {
    "cell_id": "00056-e7b9efd5-8430-48ed-8285-0d527bde16ee",
    "deepnote_cell_height": 99,
    "deepnote_cell_type": "code",
    "deepnote_to_be_reexecuted": true,
    "execution": {
     "iopub.execute_input": "2022-06-17T22:35:59.044504Z",
     "iopub.status.busy": "2022-06-17T22:35:59.044232Z",
     "iopub.status.idle": "2022-06-17T22:35:59.051343Z",
     "shell.execute_reply": "2022-06-17T22:35:59.050532Z",
     "shell.execute_reply.started": "2022-06-17T22:35:59.044477Z"
    },
    "execution_millis": 16,
    "execution_start": 1655846555644,
    "source_hash": "30fbb099"
   },
   "outputs": [],
   "source": [
    "# Write object to a comma-separated values (csv) file\n",
    "nel.to_csv(\"submission.csv\")"
   ]
  },
  {
   "cell_type": "code",
   "execution_count": null,
   "metadata": {
    "cell_id": "00057-759d9c90-2a96-4a91-8996-b34270d98ddf",
    "deepnote_cell_height": 117,
    "deepnote_cell_type": "code",
    "deepnote_to_be_reexecuted": true,
    "execution": {
     "iopub.execute_input": "2022-06-17T22:36:01.440881Z",
     "iopub.status.busy": "2022-06-17T22:36:01.440594Z",
     "iopub.status.idle": "2022-06-17T22:36:01.450954Z",
     "shell.execute_reply": "2022-06-17T22:36:01.450157Z",
     "shell.execute_reply.started": "2022-06-17T22:36:01.440844Z"
    },
    "execution_millis": 0,
    "execution_start": 1655846555715,
    "source_hash": "72d06164"
   },
   "outputs": [],
   "source": [
    "#data = {'Original Data' : y_test, 'Predicted Data' : y_hat}\n",
    "#dt = pd.DataFrame(data)\n",
    "#dt.head(20)"
   ]
  },
  {
   "cell_type": "code",
   "execution_count": null,
   "metadata": {
    "cell_id": "ea9705905429497e87e56368c80d85e1",
    "deepnote_cell_height": 201.6875,
    "deepnote_cell_type": "code",
    "deepnote_to_be_reexecuted": true,
    "execution_millis": 1025,
    "execution_start": 1655846555761,
    "source_hash": "c2aca5ab",
    "tags": []
   },
   "outputs": [
    {
     "name": "stdout",
     "output_type": "stream",
     "text": [
      "Training Accuracy: 0.816\n"
     ]
    }
   ],
   "source": [
    "save(\n",
    "    rf_model, \"rf_model\", sample_data=x_train, description=\"Random Forest Classifier\"\n",
    ")\n",
    "\n",
    "if __name__ == \"__main__\":\n",
    "    train(rf_model, x_train, y_train)"
   ]
  },
  {
   "cell_type": "code",
   "execution_count": null,
   "metadata": {
    "cell_id": "0913bdb9cf604f23869da33082d32db2",
    "deepnote_cell_height": 460.390625,
    "deepnote_cell_type": "code",
    "deepnote_to_be_reexecuted": true,
    "execution_millis": 731,
    "execution_start": 1655846556800,
    "source_hash": "a824563",
    "tags": []
   },
   "outputs": [
    {
     "name": "stdout",
     "output_type": "stream",
     "text": [
      "F1 Score: 0.682\n",
      "Model Accuracy: 0.816\n"
     ]
    },
    {
     "data": {
      "image/png": "[encoded data removed]",
      "text/plain": [
       "<Figure size 432x288 with 2 Axes>"
      ]
     },
     "metadata": {
      "image/png": {
       "height": 278,
       "width": 366
      },
      "needs_background": "light"
     },
     "output_type": "display_data"
    }
   ],
   "source": [
    "if __name__ == \"__main__\":\n",
    "    evaluate(rf_model, x_train, y_train)"
   ]
  },
  {
   "cell_type": "markdown",
   "metadata": {
    "created_in_deepnote_cell": true,
    "deepnote_cell_type": "markdown",
    "tags": []
   },
   "source": [
    "<a style='text-decoration:none;line-height:16px;display:flex;color:#5B5B62;padding:10px;justify-content:end;' href='https://deepnote.com?utm_source=created-in-deepnote-cell&projectId=34cd7c36-1fb4-455a-86de-bdf56641191e' target=\"_blank\">\n",
    "<img alt='Created in deepnote.com' style='display:inline;max-height:16px;margin:0px;margin-right:7.5px;' src='data:image/svg+xml;base64,PD94bWwgdmVyc2lvbj0iMS4wIiBlbmNvZGluZz0iVVRGLTgiPz4KPHN2ZyB3aWR0aD0iODBweCIgaGVpZ2h0PSI4MHB4IiB2aWV3Qm94PSIwIDAgODAgODAiIHZlcnNpb249IjEuMSIgeG1sbnM9Imh0dHA6Ly93d3cudzMub3JnLzIwMDAvc3ZnIiB4bWxuczp4bGluaz0iaHR0cDovL3d3dy53My5vcmcvMTk5OS94bGluayI+CiAgICA8IS0tIEdlbmVyYXRvcjogU2tldGNoIDU0LjEgKDc2NDkwKSAtIGh0dHBzOi8vc2tldGNoYXBwLmNvbSAtLT4KICAgIDx0aXRsZT5Hcm91cCAzPC90aXRsZT4KICAgIDxkZXNjPkNyZWF0ZWQgd2l0aCBTa2V0Y2guPC9kZXNjPgogICAgPGcgaWQ9IkxhbmRpbmciIHN0cm9rZT0ibm9uZSIgc3Ryb2tlLXdpZHRoPSIxIiBmaWxsPSJub25lIiBmaWxsLXJ1bGU9ImV2ZW5vZGQiPgogICAgICAgIDxnIGlkPSJBcnRib2FyZCIgdHJhbnNmb3JtPSJ0cmFuc2xhdGUoLTEyMzUuMDAwMDAwLCAtNzkuMDAwMDAwKSI+CiAgICAgICAgICAgIDxnIGlkPSJHcm91cC0zIiB0cmFuc2Zvcm09InRyYW5zbGF0ZSgxMjM1LjAwMDAwMCwgNzkuMDAwMDAwKSI+CiAgICAgICAgICAgICAgICA8cG9seWdvbiBpZD0iUGF0aC0yMCIgZmlsbD0iIzAyNjVCNCIgcG9pbnRzPSIyLjM3NjIzNzYyIDgwIDM4LjA0NzY2NjcgODAgNTcuODIxNzgyMiA3My44MDU3NTkyIDU3LjgyMTc4MjIgMzIuNzU5MjczOSAzOS4xNDAyMjc4IDMxLjY4MzE2ODMiPjwvcG9seWdvbj4KICAgICAgICAgICAgICAgIDxwYXRoIGQ9Ik0zNS4wMDc3MTgsODAgQzQyLjkwNjIwMDcsNzYuNDU0OTM1OCA0Ny41NjQ5MTY3LDcxLjU0MjI2NzEgNDguOTgzODY2LDY1LjI2MTk5MzkgQzUxLjExMjI4OTksNTUuODQxNTg0MiA0MS42NzcxNzk1LDQ5LjIxMjIyODQgMjUuNjIzOTg0Niw0OS4yMTIyMjg0IEMyNS40ODQ5Mjg5LDQ5LjEyNjg0NDggMjkuODI2MTI5Niw0My4yODM4MjQ4IDM4LjY0NzU4NjksMzEuNjgzMTY4MyBMNzIuODcxMjg3MSwzMi41NTQ0MjUgTDY1LjI4MDk3Myw2Ny42NzYzNDIxIEw1MS4xMTIyODk5LDc3LjM3NjE0NCBMMzUuMDA3NzE4LDgwIFoiIGlkPSJQYXRoLTIyIiBmaWxsPSIjMDAyODY4Ij48L3BhdGg+CiAgICAgICAgICAgICAgICA8cGF0aCBkPSJNMCwzNy43MzA0NDA1IEwyNy4xMTQ1MzcsMC4yNTcxMTE0MzYgQzYyLjM3MTUxMjMsLTEuOTkwNzE3MDEgODAsMTAuNTAwMzkyNyA4MCwzNy43MzA0NDA1IEM4MCw2NC45NjA0ODgyIDY0Ljc3NjUwMzgsNzkuMDUwMzQxNCAzNC4zMjk1MTEzLDgwIEM0Ny4wNTUzNDg5LDc3LjU2NzA4MDggNTMuNDE4MjY3Nyw3MC4zMTM2MTAzIDUzLjQxODI2NzcsNTguMjM5NTg4NSBDNTMuNDE4MjY3Nyw0MC4xMjg1NTU3IDM2LjMwMzk1NDQsMzcuNzMwNDQwNSAyNS4yMjc0MTcsMzcuNzMwNDQwNSBDMTcuODQzMDU4NiwzNy43MzA0NDA1IDkuNDMzOTE5NjYsMzcuNzMwNDQwNSAwLDM3LjczMDQ0MDUgWiIgaWQ9IlBhdGgtMTkiIGZpbGw9IiMzNzkzRUYiPjwvcGF0aD4KICAgICAgICAgICAgPC9nPgogICAgICAgIDwvZz4KICAgIDwvZz4KPC9zdmc+' > </img>\n",
    "Created in <span style='font-weight:600;margin-left:4px;'>Deepnote</span></a>"
   ]
  }
 ],
 "metadata": {
  "deepnote": {},
  "deepnote_execution_queue": [],
  "deepnote_notebook_id": "364c60ed-d980-4628-a0ac-317581851f3e",
  "kernelspec": {
   "display_name": "Python 3",
   "language": "python",
   "name": "python3"
  },
  "language_info": {
   "codemirror_mode": {
    "name": "ipython",
    "version": 3
   },
   "file_extension": ".py",
   "mimetype": "text/x-python",
   "name": "python",
   "nbconvert_exporter": "python",
   "pygments_lexer": "ipython3",
   "version": "3.6.4"
  }
 },
 "nbformat": 4,
 "nbformat_minor": 4
}
